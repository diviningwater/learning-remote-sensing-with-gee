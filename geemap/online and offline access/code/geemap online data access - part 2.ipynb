{
 "cells": [
  {
   "cell_type": "markdown",
   "id": "a705500d-420d-4c6f-ac89-8f8bc1690fea",
   "metadata": {
    "slideshow": {
     "slide_type": ""
    },
    "tags": []
   },
   "source": [
    "# GEEMAP ONLINE AND OFFLINE DATA ACCESS \n",
    "## (PART 2 - MULTIBAND SPATIAL DATA)\n",
    "\n",
    "Course: CEE5003 Remote Sensing of Land Surfaces  \n",
    "\n",
    "Created by: Alfonso Torres  \n",
    "\n",
    "Date: May 2024\n",
    "\n",
    "***"
   ]
  },
  {
   "cell_type": "markdown",
   "id": "7e5f1d36",
   "metadata": {},
   "source": [
    "### Goal \n",
    "\n",
    "Demonstrate the different data access and retrieval when using the Google Earth Engine \n",
    "***"
   ]
  },
  {
   "cell_type": "markdown",
   "id": "110ca77c",
   "metadata": {},
   "source": [
    "### Data Sources\n",
    "\n",
    "* Cloud:  \n",
    " a. GEE [NLDAS-2: North American Land Data Assimilation System Forcing Fields](https://developers.google.com/earth-engine/datasets/catalog/NASA_NLDAS_FORA0125_H002#description)    \n",
    "\n",
    "   Products of interest\n",
    "\n",
    "   precipitation \"total_precipitation\"\t  \n",
    "   air temperature at 2 meters \"temperature\"  \n",
    "   evapotranspiration \"potential_evaporation\"\n",
    "\n",
    " b. GEE [TIGER: US Census States 2018](https://developers.google.com/earth-engine/datasets/catalog/TIGER_2018_States)  \n",
    "\n",
    "\n",
    "\n",
    "\n",
    "* Local:\n",
    "    None  \n",
    "\n",
    "***"
   ]
  },
  {
   "cell_type": "markdown",
   "id": "03d981c9-18c3-44b9-b5bf-29c2fdca9f73",
   "metadata": {},
   "source": [
    "### Implementation"
   ]
  },
  {
   "cell_type": "markdown",
   "id": "135a0b7a",
   "metadata": {},
   "source": [
    "1. Importing modules"
   ]
  },
  {
   "cell_type": "code",
   "execution_count": 98,
   "id": "06b2df0c-5cd7-40ed-9c53-5d5b086f75be",
   "metadata": {},
   "outputs": [
    {
     "data": {
      "text/html": [
       "\n",
       "            <style>\n",
       "                .geemap-dark {\n",
       "                    --jp-widgets-color: white;\n",
       "                    --jp-widgets-label-color: white;\n",
       "                    --jp-ui-font-color1: white;\n",
       "                    --jp-layout-color2: #454545;\n",
       "                    background-color: #383838;\n",
       "                }\n",
       "\n",
       "                .geemap-dark .jupyter-button {\n",
       "                    --jp-layout-color3: #383838;\n",
       "                }\n",
       "\n",
       "                .geemap-colab {\n",
       "                    background-color: var(--colab-primary-surface-color, white);\n",
       "                }\n",
       "\n",
       "                .geemap-colab .jupyter-button {\n",
       "                    --jp-layout-color3: var(--colab-primary-surface-color, white);\n",
       "                }\n",
       "            </style>\n",
       "            "
      ],
      "text/plain": [
       "<IPython.core.display.HTML object>"
      ]
     },
     "metadata": {},
     "output_type": "display_data"
    }
   ],
   "source": [
    "import ee  # Import the Earth Engine Python API\n",
    "import geemap  # Import the geemap library for interactive mapping\n",
    "import eemont  # Import the eemont library for extending the capabilities of the Earth Engine Python API\n",
    "\n",
    "# Import the pprint module for presenting metadata information from rasters/images from Google Earth Engine\n",
    "from pprint import pprint"
   ]
  },
  {
   "cell_type": "code",
   "execution_count": 99,
   "id": "c6aa1e75-5074-4fd0-9e35-7d9f1479514c",
   "metadata": {},
   "outputs": [
    {
     "data": {
      "text/html": [
       "\n",
       "            <style>\n",
       "                .geemap-dark {\n",
       "                    --jp-widgets-color: white;\n",
       "                    --jp-widgets-label-color: white;\n",
       "                    --jp-ui-font-color1: white;\n",
       "                    --jp-layout-color2: #454545;\n",
       "                    background-color: #383838;\n",
       "                }\n",
       "\n",
       "                .geemap-dark .jupyter-button {\n",
       "                    --jp-layout-color3: #383838;\n",
       "                }\n",
       "\n",
       "                .geemap-colab {\n",
       "                    background-color: var(--colab-primary-surface-color, white);\n",
       "                }\n",
       "\n",
       "                .geemap-colab .jupyter-button {\n",
       "                    --jp-layout-color3: var(--colab-primary-surface-color, white);\n",
       "                }\n",
       "            </style>\n",
       "            "
      ],
      "text/plain": [
       "<IPython.core.display.HTML object>"
      ]
     },
     "metadata": {},
     "output_type": "display_data"
    }
   ],
   "source": [
    "##### uncomment this cell and run it if the cell below fails\n",
    "# import geemap\n",
    "# m = geemap.Map()\n",
    "# m"
   ]
  },
  {
   "cell_type": "markdown",
   "id": "281f6e35",
   "metadata": {},
   "source": [
    "2. Initialize Earth Engine"
   ]
  },
  {
   "cell_type": "code",
   "execution_count": 101,
   "id": "0563d5c0",
   "metadata": {},
   "outputs": [
    {
     "data": {
      "text/html": [
       "\n",
       "            <style>\n",
       "                .geemap-dark {\n",
       "                    --jp-widgets-color: white;\n",
       "                    --jp-widgets-label-color: white;\n",
       "                    --jp-ui-font-color1: white;\n",
       "                    --jp-layout-color2: #454545;\n",
       "                    background-color: #383838;\n",
       "                }\n",
       "\n",
       "                .geemap-dark .jupyter-button {\n",
       "                    --jp-layout-color3: #383838;\n",
       "                }\n",
       "\n",
       "                .geemap-colab {\n",
       "                    background-color: var(--colab-primary-surface-color, white);\n",
       "                }\n",
       "\n",
       "                .geemap-colab .jupyter-button {\n",
       "                    --jp-layout-color3: var(--colab-primary-surface-color, white);\n",
       "                }\n",
       "            </style>\n",
       "            "
      ],
      "text/plain": [
       "<IPython.core.display.HTML object>"
      ]
     },
     "metadata": {},
     "output_type": "display_data"
    }
   ],
   "source": [
    "ee.Initialize()"
   ]
  },
  {
   "cell_type": "markdown",
   "id": "02178b3a-98c8-4085-90ed-2e9e37bb99f6",
   "metadata": {},
   "source": [
    "### Accessing Different Multiband Image Products"
   ]
  },
  {
   "cell_type": "markdown",
   "id": "aff3209f",
   "metadata": {},
   "source": [
    "3. Load Utah Boundary"
   ]
  },
  {
   "cell_type": "code",
   "execution_count": 104,
   "id": "a38bf3fc",
   "metadata": {},
   "outputs": [
    {
     "data": {
      "text/html": [
       "\n",
       "            <style>\n",
       "                .geemap-dark {\n",
       "                    --jp-widgets-color: white;\n",
       "                    --jp-widgets-label-color: white;\n",
       "                    --jp-ui-font-color1: white;\n",
       "                    --jp-layout-color2: #454545;\n",
       "                    background-color: #383838;\n",
       "                }\n",
       "\n",
       "                .geemap-dark .jupyter-button {\n",
       "                    --jp-layout-color3: #383838;\n",
       "                }\n",
       "\n",
       "                .geemap-colab {\n",
       "                    background-color: var(--colab-primary-surface-color, white);\n",
       "                }\n",
       "\n",
       "                .geemap-colab .jupyter-button {\n",
       "                    --jp-layout-color3: var(--colab-primary-surface-color, white);\n",
       "                }\n",
       "            </style>\n",
       "            "
      ],
      "text/plain": [
       "<IPython.core.display.HTML object>"
      ]
     },
     "metadata": {},
     "output_type": "display_data"
    }
   ],
   "source": [
    "# Load the 'TIGER/2018/Counties' FeatureCollection and filter it to get the feature for 'Cache' county\n",
    "boundary_cache_county = (\n",
    "    ee.FeatureCollection(\"TIGER/2018/Counties\")\n",
    "    .filter(ee.Filter.eq('NAME', 'Cache'))\n",
    "    .first()\n",
    ")\n",
    "\n",
    "# Print the information of the 'boundary_cache_county' feature\n",
    "# pprint(boundary_cache_county.getInfo())"
   ]
  },
  {
   "cell_type": "markdown",
   "id": "55d0f144",
   "metadata": {},
   "source": [
    "Loading NAIP imagery\n",
    "\n",
    "NAIP imagery have minimal cloud occurrence"
   ]
  },
  {
   "cell_type": "code",
   "execution_count": 106,
   "id": "f8bcf6bc",
   "metadata": {},
   "outputs": [
    {
     "data": {
      "text/html": [
       "\n",
       "            <style>\n",
       "                .geemap-dark {\n",
       "                    --jp-widgets-color: white;\n",
       "                    --jp-widgets-label-color: white;\n",
       "                    --jp-ui-font-color1: white;\n",
       "                    --jp-layout-color2: #454545;\n",
       "                    background-color: #383838;\n",
       "                }\n",
       "\n",
       "                .geemap-dark .jupyter-button {\n",
       "                    --jp-layout-color3: #383838;\n",
       "                }\n",
       "\n",
       "                .geemap-colab {\n",
       "                    background-color: var(--colab-primary-surface-color, white);\n",
       "                }\n",
       "\n",
       "                .geemap-colab .jupyter-button {\n",
       "                    --jp-layout-color3: var(--colab-primary-surface-color, white);\n",
       "                }\n",
       "            </style>\n",
       "            "
      ],
      "text/plain": [
       "<IPython.core.display.HTML object>"
      ]
     },
     "metadata": {},
     "output_type": "display_data"
    },
    {
     "name": "stdout",
     "output_type": "stream",
     "text": [
      "{'bands': [{'crs': 'EPSG:4326',\n",
      "            'crs_transform': [1, 0, 0, 0, 1, 0],\n",
      "            'data_type': {'max': 255,\n",
      "                          'min': 0,\n",
      "                          'precision': 'int',\n",
      "                          'type': 'PixelType'},\n",
      "            'id': 'R'},\n",
      "           {'crs': 'EPSG:4326',\n",
      "            'crs_transform': [1, 0, 0, 0, 1, 0],\n",
      "            'data_type': {'max': 255,\n",
      "                          'min': 0,\n",
      "                          'precision': 'int',\n",
      "                          'type': 'PixelType'},\n",
      "            'id': 'G'},\n",
      "           {'crs': 'EPSG:4326',\n",
      "            'crs_transform': [1, 0, 0, 0, 1, 0],\n",
      "            'data_type': {'max': 255,\n",
      "                          'min': 0,\n",
      "                          'precision': 'int',\n",
      "                          'type': 'PixelType'},\n",
      "            'id': 'B'},\n",
      "           {'crs': 'EPSG:4326',\n",
      "            'crs_transform': [1, 0, 0, 0, 1, 0],\n",
      "            'data_type': {'max': 255,\n",
      "                          'min': 0,\n",
      "                          'precision': 'int',\n",
      "                          'type': 'PixelType'},\n",
      "            'id': 'N'}],\n",
      " 'type': 'Image'}\n"
     ]
    }
   ],
   "source": [
    "# Load the NAIP dataset within the specified date range\n",
    "dataset = (\n",
    "    ee.ImageCollection(\"USDA/NAIP/DOQQ\")\n",
    "    .filterDate('2021-01-01' ,'2024-12-31')  # Filter images within the date range\n",
    "    .mosaic()  # Create a single mosaic image from the collection\n",
    ")\n",
    "\n",
    "# Print information about the dataset\n",
    "pprint(dataset.getInfo())"
   ]
  },
  {
   "cell_type": "code",
   "execution_count": 107,
   "id": "74cefdad",
   "metadata": {},
   "outputs": [
    {
     "data": {
      "text/html": [
       "\n",
       "            <style>\n",
       "                .geemap-dark {\n",
       "                    --jp-widgets-color: white;\n",
       "                    --jp-widgets-label-color: white;\n",
       "                    --jp-ui-font-color1: white;\n",
       "                    --jp-layout-color2: #454545;\n",
       "                    background-color: #383838;\n",
       "                }\n",
       "\n",
       "                .geemap-dark .jupyter-button {\n",
       "                    --jp-layout-color3: #383838;\n",
       "                }\n",
       "\n",
       "                .geemap-colab {\n",
       "                    background-color: var(--colab-primary-surface-color, white);\n",
       "                }\n",
       "\n",
       "                .geemap-colab .jupyter-button {\n",
       "                    --jp-layout-color3: var(--colab-primary-surface-color, white);\n",
       "                }\n",
       "            </style>\n",
       "            "
      ],
      "text/plain": [
       "<IPython.core.display.HTML object>"
      ]
     },
     "metadata": {},
     "output_type": "display_data"
    }
   ],
   "source": [
    "dataset = dataset.clip(boundary_cache_county)"
   ]
  },
  {
   "cell_type": "code",
   "execution_count": 108,
   "id": "05edc536-e7c8-4e05-abb2-cf1d5408c82b",
   "metadata": {},
   "outputs": [
    {
     "data": {
      "text/html": [
       "\n",
       "            <style>\n",
       "                .geemap-dark {\n",
       "                    --jp-widgets-color: white;\n",
       "                    --jp-widgets-label-color: white;\n",
       "                    --jp-ui-font-color1: white;\n",
       "                    --jp-layout-color2: #454545;\n",
       "                    background-color: #383838;\n",
       "                }\n",
       "\n",
       "                .geemap-dark .jupyter-button {\n",
       "                    --jp-layout-color3: #383838;\n",
       "                }\n",
       "\n",
       "                .geemap-colab {\n",
       "                    background-color: var(--colab-primary-surface-color, white);\n",
       "                }\n",
       "\n",
       "                .geemap-colab .jupyter-button {\n",
       "                    --jp-layout-color3: var(--colab-primary-surface-color, white);\n",
       "                }\n",
       "            </style>\n",
       "            "
      ],
      "text/plain": [
       "<IPython.core.display.HTML object>"
      ]
     },
     "metadata": {},
     "output_type": "display_data"
    },
    {
     "data": {
      "application/vnd.jupyter.widget-view+json": {
       "model_id": "901e5b85e0ed43ff9d402ea32c8329ca",
       "version_major": 2,
       "version_minor": 0
      },
      "text/plain": [
       "Map(center=[41.72212265509924, -111.74343433294621], controls=(WidgetControl(options=['position', 'transparent…"
      ]
     },
     "metadata": {},
     "output_type": "display_data"
    }
   ],
   "source": [
    "naturalColor = dataset.select(['R', 'G', 'B']);\n",
    "\n",
    "naturalColorVis = {\n",
    "    'min': 0, #min value to force image to display\n",
    "    'max': 255, #max value to fore image to display\n",
    "    'gamma': [1.2, 1.1, 1], #color enhancement (to highlight low/medium values)\n",
    "}\n",
    "\n",
    "Map1 = geemap.Map()\n",
    "Map1.centerObject(boundary_cache_county, 10)\n",
    "\n",
    "Map1.addLayer(naturalColor, naturalColorVis, '2021 USDA NAIP');\n",
    "\n",
    "Map1"
   ]
  },
  {
   "cell_type": "code",
   "execution_count": 109,
   "id": "ea187b08-94cd-41cb-b56e-804fff620be4",
   "metadata": {},
   "outputs": [
    {
     "data": {
      "text/html": [
       "\n",
       "            <style>\n",
       "                .geemap-dark {\n",
       "                    --jp-widgets-color: white;\n",
       "                    --jp-widgets-label-color: white;\n",
       "                    --jp-ui-font-color1: white;\n",
       "                    --jp-layout-color2: #454545;\n",
       "                    background-color: #383838;\n",
       "                }\n",
       "\n",
       "                .geemap-dark .jupyter-button {\n",
       "                    --jp-layout-color3: #383838;\n",
       "                }\n",
       "\n",
       "                .geemap-colab {\n",
       "                    background-color: var(--colab-primary-surface-color, white);\n",
       "                }\n",
       "\n",
       "                .geemap-colab .jupyter-button {\n",
       "                    --jp-layout-color3: var(--colab-primary-surface-color, white);\n",
       "                }\n",
       "            </style>\n",
       "            "
      ],
      "text/plain": [
       "<IPython.core.display.HTML object>"
      ]
     },
     "metadata": {},
     "output_type": "display_data"
    },
    {
     "data": {
      "application/vnd.jupyter.widget-view+json": {
       "model_id": "1e19d887b32e483e88540501d5d65942",
       "version_major": 2,
       "version_minor": 0
      },
      "text/plain": [
       "Map(center=[41.72212265509924, -111.74343433294621], controls=(WidgetControl(options=['position', 'transparent…"
      ]
     },
     "metadata": {},
     "output_type": "display_data"
    }
   ],
   "source": [
    "falseColor = dataset.select(['N', 'R', 'G']);\n",
    "\n",
    "falseColorVis = {\n",
    "    'min': 0, #min value to force image to display\n",
    "    'max': 255, #max value to fore image to display\n",
    "    'gamma': [1.2, 1, 1], #color enhancement (to highlight low/medium values)\n",
    "}\n",
    "\n",
    "Map2 = geemap.Map()\n",
    "Map2.centerObject(boundary_cache_county, 10)\n",
    "\n",
    "Map2.addLayer(falseColor, falseColorVis, '2021 false color USDA NAIP');\n",
    "\n",
    "Map2"
   ]
  },
  {
   "cell_type": "markdown",
   "id": "26c2b4ef",
   "metadata": {},
   "source": [
    "Loading Sentinel2 Imagery\n",
    "\n",
    "Because this imagery is on schedule (every 5 days, clouds and shadows are bound to happen. We need to build a cloud filter."
   ]
  },
  {
   "cell_type": "code",
   "execution_count": 111,
   "id": "654b91ca",
   "metadata": {},
   "outputs": [
    {
     "data": {
      "text/html": [
       "\n",
       "            <style>\n",
       "                .geemap-dark {\n",
       "                    --jp-widgets-color: white;\n",
       "                    --jp-widgets-label-color: white;\n",
       "                    --jp-ui-font-color1: white;\n",
       "                    --jp-layout-color2: #454545;\n",
       "                    background-color: #383838;\n",
       "                }\n",
       "\n",
       "                .geemap-dark .jupyter-button {\n",
       "                    --jp-layout-color3: #383838;\n",
       "                }\n",
       "\n",
       "                .geemap-colab {\n",
       "                    background-color: var(--colab-primary-surface-color, white);\n",
       "                }\n",
       "\n",
       "                .geemap-colab .jupyter-button {\n",
       "                    --jp-layout-color3: var(--colab-primary-surface-color, white);\n",
       "                }\n",
       "            </style>\n",
       "            "
      ],
      "text/plain": [
       "<IPython.core.display.HTML object>"
      ]
     },
     "metadata": {},
     "output_type": "display_data"
    }
   ],
   "source": [
    "def mask_s2_clouds(sentinel2_image):\n",
    "  \"\"\"Masks clouds in a Sentinel-2 image using the QA band.\n",
    "\n",
    "  Args:\n",
    "      sentinel2_image (ee.Image): A Sentinel-2 image.\n",
    "\n",
    "  Returns:\n",
    "      ee.Image: A cloud-masked Sentinel-2 image.\n",
    "  \"\"\"\n",
    "  qa = sentinel2_image.select('QA60')\n",
    "\n",
    "  # Bits 10 and 11 are clouds and cirrus, respectively.\n",
    "  cloud_bit_mask = 1 << 10\n",
    "  cirrus_bit_mask = 1 << 11\n",
    "\n",
    "  # Both flags should be set to zero, indicating clear conditions.\n",
    "  mask = (\n",
    "      qa.bitwiseAnd(cloud_bit_mask)\n",
    "      .eq(0)\n",
    "      .And(qa.bitwiseAnd(cirrus_bit_mask).eq(0))\n",
    "  )\n",
    "\n",
    "  return sentinel2_image.updateMask(mask).divide(10000)"
   ]
  },
  {
   "cell_type": "code",
   "execution_count": 112,
   "id": "cf41d466",
   "metadata": {},
   "outputs": [
    {
     "data": {
      "text/html": [
       "\n",
       "            <style>\n",
       "                .geemap-dark {\n",
       "                    --jp-widgets-color: white;\n",
       "                    --jp-widgets-label-color: white;\n",
       "                    --jp-ui-font-color1: white;\n",
       "                    --jp-layout-color2: #454545;\n",
       "                    background-color: #383838;\n",
       "                }\n",
       "\n",
       "                .geemap-dark .jupyter-button {\n",
       "                    --jp-layout-color3: #383838;\n",
       "                }\n",
       "\n",
       "                .geemap-colab {\n",
       "                    background-color: var(--colab-primary-surface-color, white);\n",
       "                }\n",
       "\n",
       "                .geemap-colab .jupyter-button {\n",
       "                    --jp-layout-color3: var(--colab-primary-surface-color, white);\n",
       "                }\n",
       "            </style>\n",
       "            "
      ],
      "text/plain": [
       "<IPython.core.display.HTML object>"
      ]
     },
     "metadata": {},
     "output_type": "display_data"
    },
    {
     "data": {
      "application/vnd.jupyter.widget-view+json": {
       "model_id": "46ae77284053412dac09f1d069547201",
       "version_major": 2,
       "version_minor": 0
      },
      "text/plain": [
       "Map(center=[41.72212265509924, -111.74343433294621], controls=(WidgetControl(options=['position', 'transparent…"
      ]
     },
     "metadata": {},
     "output_type": "display_data"
    }
   ],
   "source": [
    "dataset = (\n",
    "    ee.ImageCollection('COPERNICUS/S2_SR_HARMONIZED')\n",
    "    .filterDate('2023-06-01', '2023-06-30')\n",
    "#     .filterBounds(boundary_cache_county.geometry())\n",
    "    # Pre-filter to get less cloudy granules.\n",
    "    .filter(ee.Filter.lt('CLOUDY_PIXEL_PERCENTAGE', 10))\n",
    "    .map(mask_s2_clouds)\n",
    "    .mosaic() # to get a single image change this command to first(), for mosaic, use mosaic()\n",
    ")\n",
    "\n",
    "\n",
    "dataset = dataset.clip(boundary_cache_county)\n",
    "\n",
    "visualization = {\n",
    "    'min': 0.0,\n",
    "    'max': 0.3,\n",
    "    'bands': ['B4', 'B3', 'B2'],\n",
    "}\n",
    "\n",
    "Map3 = geemap.Map()\n",
    "Map3.centerObject(boundary_cache_county, 10)\n",
    "Map3.add_layer(dataset, visualization, 'RGB')\n",
    "Map3"
   ]
  },
  {
   "cell_type": "markdown",
   "id": "259e3611",
   "metadata": {},
   "source": [
    "Accesing Sentinel 3 imagery"
   ]
  },
  {
   "cell_type": "code",
   "execution_count": 114,
   "id": "0113c1ca",
   "metadata": {},
   "outputs": [
    {
     "data": {
      "text/html": [
       "\n",
       "            <style>\n",
       "                .geemap-dark {\n",
       "                    --jp-widgets-color: white;\n",
       "                    --jp-widgets-label-color: white;\n",
       "                    --jp-ui-font-color1: white;\n",
       "                    --jp-layout-color2: #454545;\n",
       "                    background-color: #383838;\n",
       "                }\n",
       "\n",
       "                .geemap-dark .jupyter-button {\n",
       "                    --jp-layout-color3: #383838;\n",
       "                }\n",
       "\n",
       "                .geemap-colab {\n",
       "                    background-color: var(--colab-primary-surface-color, white);\n",
       "                }\n",
       "\n",
       "                .geemap-colab .jupyter-button {\n",
       "                    --jp-layout-color3: var(--colab-primary-surface-color, white);\n",
       "                }\n",
       "            </style>\n",
       "            "
      ],
      "text/plain": [
       "<IPython.core.display.HTML object>"
      ]
     },
     "metadata": {},
     "output_type": "display_data"
    },
    {
     "data": {
      "application/vnd.jupyter.widget-view+json": {
       "model_id": "300ba355838b48758fdf289ff8bd3b7c",
       "version_major": 2,
       "version_minor": 0
      },
      "text/plain": [
       "Map(center=[41.72212265509924, -111.74343433294621], controls=(WidgetControl(options=['position', 'transparent…"
      ]
     },
     "metadata": {},
     "output_type": "display_data"
    }
   ],
   "source": [
    "dataset = (\n",
    "    ee.ImageCollection('COPERNICUS/S3/OLCI')\n",
    "#     .filterDate('2024-05-29', '2024-05-30')\n",
    "    .filterDate('2024-06-01', '2024-06-30')\n",
    "#     .filterBounds(boundary_cache_county.geometry())\n",
    "    .mosaic() # to get a single image change this command to first(), for mosaic, use mosaic()\n",
    ")\n",
    "\n",
    "# Select bands for visualization and apply band-specific scale factors.\n",
    "rgb = (\n",
    "    dataset.select(['Oa08_radiance', 'Oa06_radiance', 'Oa04_radiance'])\n",
    "    #Convert to radiance units.\n",
    "    .multiply(ee.Image([0.00876539, 0.0123538, 0.0115198]))\n",
    ")\n",
    "\n",
    "rgb = rgb.clip(boundary_cache_county)\n",
    "\n",
    "\n",
    "visParams = {\n",
    "  'min': 0,\n",
    "  'max': 3,\n",
    "  'gamma': 1.5,\n",
    "}\n",
    "\n",
    "Map4 = geemap.Map()\n",
    "Map4.centerObject(boundary_cache_county, 10)\n",
    "Map4.addLayer(rgb, visParams, 'RGB')\n",
    "Map4"
   ]
  },
  {
   "cell_type": "markdown",
   "id": "86213371",
   "metadata": {},
   "source": [
    "Accesing MODIS Terra"
   ]
  },
  {
   "cell_type": "code",
   "execution_count": 116,
   "id": "cd9af8bd",
   "metadata": {
    "scrolled": true
   },
   "outputs": [
    {
     "data": {
      "text/html": [
       "\n",
       "            <style>\n",
       "                .geemap-dark {\n",
       "                    --jp-widgets-color: white;\n",
       "                    --jp-widgets-label-color: white;\n",
       "                    --jp-ui-font-color1: white;\n",
       "                    --jp-layout-color2: #454545;\n",
       "                    background-color: #383838;\n",
       "                }\n",
       "\n",
       "                .geemap-dark .jupyter-button {\n",
       "                    --jp-layout-color3: #383838;\n",
       "                }\n",
       "\n",
       "                .geemap-colab {\n",
       "                    background-color: var(--colab-primary-surface-color, white);\n",
       "                }\n",
       "\n",
       "                .geemap-colab .jupyter-button {\n",
       "                    --jp-layout-color3: var(--colab-primary-surface-color, white);\n",
       "                }\n",
       "            </style>\n",
       "            "
      ],
      "text/plain": [
       "<IPython.core.display.HTML object>"
      ]
     },
     "metadata": {},
     "output_type": "display_data"
    },
    {
     "data": {
      "application/vnd.jupyter.widget-view+json": {
       "model_id": "1a348a33c06f4294a01ad152840823e3",
       "version_major": 2,
       "version_minor": 0
      },
      "text/plain": [
       "Map(center=[41.72212265509924, -111.74343433294621], controls=(WidgetControl(options=['position', 'transparent…"
      ]
     },
     "metadata": {},
     "output_type": "display_data"
    }
   ],
   "source": [
    "dataset = (\n",
    "    ee.ImageCollection('MODIS/061/MOD09GA')\n",
    "    .filterDate('2024-04-01', '2024-05-30')\n",
    "    .maskClouds()\n",
    "#     .filterBounds(boundary_cache_county.geometry())\n",
    "    .mosaic() # to get a single image change this command to first(), for mosaic, use mosaic()\n",
    ")\n",
    "\n",
    "\n",
    "trueColor143 = (\n",
    "    dataset.select(['sur_refl_b01', 'sur_refl_b04', 'sur_refl_b03']).divide(10000)\n",
    ")\n",
    "\n",
    "trueColor143 = trueColor143.clip(boundary_cache_county)\n",
    "\n",
    "    \n",
    "trueColor143Vis = {\n",
    "  'min': 0,\n",
    "  'max': 0.3,\n",
    "}\n",
    "\n",
    "Map5 = geemap.Map()\n",
    "Map5.centerObject(boundary_cache_county, 10)\n",
    "Map5.addLayer(trueColor143, trueColor143Vis, 'True Color (143)')\n",
    "Map5"
   ]
  },
  {
   "cell_type": "markdown",
   "id": "0efe4f6f",
   "metadata": {},
   "source": [
    "Accesing Landsat imagery"
   ]
  },
  {
   "cell_type": "code",
   "execution_count": 118,
   "id": "2af35019",
   "metadata": {},
   "outputs": [
    {
     "data": {
      "text/html": [
       "\n",
       "            <style>\n",
       "                .geemap-dark {\n",
       "                    --jp-widgets-color: white;\n",
       "                    --jp-widgets-label-color: white;\n",
       "                    --jp-ui-font-color1: white;\n",
       "                    --jp-layout-color2: #454545;\n",
       "                    background-color: #383838;\n",
       "                }\n",
       "\n",
       "                .geemap-dark .jupyter-button {\n",
       "                    --jp-layout-color3: #383838;\n",
       "                }\n",
       "\n",
       "                .geemap-colab {\n",
       "                    background-color: var(--colab-primary-surface-color, white);\n",
       "                }\n",
       "\n",
       "                .geemap-colab .jupyter-button {\n",
       "                    --jp-layout-color3: var(--colab-primary-surface-color, white);\n",
       "                }\n",
       "            </style>\n",
       "            "
      ],
      "text/plain": [
       "<IPython.core.display.HTML object>"
      ]
     },
     "metadata": {},
     "output_type": "display_data"
    },
    {
     "data": {
      "application/vnd.jupyter.widget-view+json": {
       "model_id": "0b3a28baf48c4ce792884d06fdd2a03e",
       "version_major": 2,
       "version_minor": 0
      },
      "text/plain": [
       "Map(center=[41.72212265509924, -111.74343433294621], controls=(WidgetControl(options=['position', 'transparent…"
      ]
     },
     "metadata": {},
     "output_type": "display_data"
    }
   ],
   "source": [
    "# Applies scaling factors to the Landsat image bands.\n",
    "def apply_scale_factors(landsat_image):\n",
    "  # Scale the optical bands.\n",
    "  optical_bands = landsat_image.select('SR_B.').multiply(0.0000275).add(-0.2)\n",
    "  # Scale the thermal bands.\n",
    "  thermal_bands = landsat_image.select('ST_B.*').multiply(0.00341802).add(149.0)\n",
    "  # Add the scaled bands to the Landsat image.\n",
    "  return landsat_image.addBands(optical_bands, None, True).addBands(\n",
    "      thermal_bands, None, True\n",
    "  )\n",
    "\n",
    "# Load the Landsat image collection and apply scaling factors.\n",
    "dataset = (\n",
    "    ee.ImageCollection('LANDSAT/LC09/C02/T1_L2')\n",
    "    .filterDate('2024-04-01', '2024-05-30')\n",
    "    .maskClouds()\n",
    "    .map(apply_scale_factors)\n",
    "    .mosaic()  # To get a single image, change this command to first(). For mosaic, use mosaic().\n",
    ")\n",
    "\n",
    "# Clip the dataset to the specified boundary.\n",
    "dataset = dataset.clip(boundary_cache_county)\n",
    "\n",
    "# Define visualization parameters.\n",
    "visualization = {\n",
    "    'bands': ['SR_B4', 'SR_B3', 'SR_B2'],\n",
    "    'min': 0.0,\n",
    "    'max': 0.5,\n",
    "}\n",
    "\n",
    "# Create a map and add the dataset with the specified visualization parameters.\n",
    "Map6 = geemap.Map()\n",
    "Map6.centerObject(boundary_cache_county, 10)\n",
    "Map6.add_layer(dataset, visualization, 'True Color (432)')\n",
    "Map6"
   ]
  },
  {
   "cell_type": "code",
   "execution_count": null,
   "id": "38307bd4",
   "metadata": {},
   "outputs": [],
   "source": []
  },
  {
   "cell_type": "code",
   "execution_count": null,
   "id": "e44ff5ff",
   "metadata": {},
   "outputs": [],
   "source": []
  }
 ],
 "metadata": {
  "kernelspec": {
   "display_name": "Python 3 (ipykernel)",
   "language": "python",
   "name": "python3"
  },
  "language_info": {
   "codemirror_mode": {
    "name": "ipython",
    "version": 3
   },
   "file_extension": ".py",
   "mimetype": "text/x-python",
   "name": "python",
   "nbconvert_exporter": "python",
   "pygments_lexer": "ipython3",
   "version": "3.11.9"
  }
 },
 "nbformat": 4,
 "nbformat_minor": 5
}
