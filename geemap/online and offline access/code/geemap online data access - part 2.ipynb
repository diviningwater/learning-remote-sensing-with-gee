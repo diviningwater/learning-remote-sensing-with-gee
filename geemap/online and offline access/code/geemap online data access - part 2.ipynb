{
 "cells": [
  {
   "cell_type": "markdown",
   "id": "a705500d-420d-4c6f-ac89-8f8bc1690fea",
   "metadata": {
    "slideshow": {
     "slide_type": ""
    },
    "tags": []
   },
   "source": [
    "# GEEMAP ONLINE AND OFFLINE DATA ACCESS \n",
    "## (PART 2 - MULTIBAND SPATIAL DATA)\n",
    "\n",
    "Course: CEE5003 Remote Sensing of Land Surfaces  \n",
    "\n",
    "Created by: Alfonso Torres  \n",
    "\n",
    "Date: May 2024\n",
    "\n",
    "***"
   ]
  },
  {
   "cell_type": "markdown",
   "id": "7e5f1d36",
   "metadata": {},
   "source": [
    "### Goal \n",
    "\n",
    "Demonstrate the different data access and retrieval when using the Google Earth Engine \n",
    "***"
   ]
  },
  {
   "cell_type": "markdown",
   "id": "110ca77c",
   "metadata": {},
   "source": [
    "### Data Sources\n",
    "\n",
    "* Cloud:  \n",
    " a. GEE [ERA5-Land Daily Aggregated - ECMWF Climate Reanalysis](ee.ImageCollection(\"ECMWF/ERA5_LAND/DAILY_AGGR\")    \n",
    "\n",
    "   ERAS5 products of interest\n",
    "\n",
    "   snow water equivalent \"snow_depth_water_equivalent\"\t  \n",
    "   air temperature at 2 meters \"temperature_2m\"  \n",
    "   soil moisture \"volumetric_soil_water_layer_1\"  \n",
    "   evapotranspiration \"evaporation_from_vegetation_transpiration_sum\"\n",
    "\n",
    " b. GEE [TIGER: US Census States 2018](https://developers.google.com/earth-engine/datasets/catalog/TIGER_2018_States)  \n",
    "\n",
    "\n",
    "\n",
    "\n",
    "* Local:\n",
    "    None  \n",
    "\n",
    "***"
   ]
  },
  {
   "cell_type": "markdown",
   "id": "03d981c9-18c3-44b9-b5bf-29c2fdca9f73",
   "metadata": {},
   "source": [
    "### Implementation"
   ]
  },
  {
   "cell_type": "markdown",
   "id": "135a0b7a",
   "metadata": {},
   "source": [
    "1. Importing modules"
   ]
  },
  {
   "cell_type": "code",
   "execution_count": 150,
   "id": "06b2df0c-5cd7-40ed-9c53-5d5b086f75be",
   "metadata": {},
   "outputs": [
    {
     "data": {
      "text/html": [
       "\n",
       "            <style>\n",
       "                .geemap-dark {\n",
       "                    --jp-widgets-color: white;\n",
       "                    --jp-widgets-label-color: white;\n",
       "                    --jp-ui-font-color1: white;\n",
       "                    --jp-layout-color2: #454545;\n",
       "                    background-color: #383838;\n",
       "                }\n",
       "\n",
       "                .geemap-dark .jupyter-button {\n",
       "                    --jp-layout-color3: #383838;\n",
       "                }\n",
       "\n",
       "                .geemap-colab {\n",
       "                    background-color: var(--colab-primary-surface-color, white);\n",
       "                }\n",
       "\n",
       "                .geemap-colab .jupyter-button {\n",
       "                    --jp-layout-color3: var(--colab-primary-surface-color, white);\n",
       "                }\n",
       "            </style>\n",
       "            "
      ],
      "text/plain": [
       "<IPython.core.display.HTML object>"
      ]
     },
     "metadata": {},
     "output_type": "display_data"
    }
   ],
   "source": [
    "import ee\n",
    "import geemap\n",
    "import eemont\n"
   ]
  },
  {
   "cell_type": "code",
   "execution_count": 151,
   "id": "c6aa1e75-5074-4fd0-9e35-7d9f1479514c",
   "metadata": {},
   "outputs": [
    {
     "data": {
      "text/html": [
       "\n",
       "            <style>\n",
       "                .geemap-dark {\n",
       "                    --jp-widgets-color: white;\n",
       "                    --jp-widgets-label-color: white;\n",
       "                    --jp-ui-font-color1: white;\n",
       "                    --jp-layout-color2: #454545;\n",
       "                    background-color: #383838;\n",
       "                }\n",
       "\n",
       "                .geemap-dark .jupyter-button {\n",
       "                    --jp-layout-color3: #383838;\n",
       "                }\n",
       "\n",
       "                .geemap-colab {\n",
       "                    background-color: var(--colab-primary-surface-color, white);\n",
       "                }\n",
       "\n",
       "                .geemap-colab .jupyter-button {\n",
       "                    --jp-layout-color3: var(--colab-primary-surface-color, white);\n",
       "                }\n",
       "            </style>\n",
       "            "
      ],
      "text/plain": [
       "<IPython.core.display.HTML object>"
      ]
     },
     "metadata": {},
     "output_type": "display_data"
    }
   ],
   "source": [
    "##### uncomment this cell and run it if the cell below fails\n",
    "# import geemap\n",
    "# m = geemap.Map()\n",
    "# m"
   ]
  },
  {
   "cell_type": "markdown",
   "id": "281f6e35",
   "metadata": {},
   "source": [
    "2. Initialize Earth Engine"
   ]
  },
  {
   "cell_type": "code",
   "execution_count": 152,
   "id": "0563d5c0",
   "metadata": {},
   "outputs": [
    {
     "data": {
      "text/html": [
       "\n",
       "            <style>\n",
       "                .geemap-dark {\n",
       "                    --jp-widgets-color: white;\n",
       "                    --jp-widgets-label-color: white;\n",
       "                    --jp-ui-font-color1: white;\n",
       "                    --jp-layout-color2: #454545;\n",
       "                    background-color: #383838;\n",
       "                }\n",
       "\n",
       "                .geemap-dark .jupyter-button {\n",
       "                    --jp-layout-color3: #383838;\n",
       "                }\n",
       "\n",
       "                .geemap-colab {\n",
       "                    background-color: var(--colab-primary-surface-color, white);\n",
       "                }\n",
       "\n",
       "                .geemap-colab .jupyter-button {\n",
       "                    --jp-layout-color3: var(--colab-primary-surface-color, white);\n",
       "                }\n",
       "            </style>\n",
       "            "
      ],
      "text/plain": [
       "<IPython.core.display.HTML object>"
      ]
     },
     "metadata": {},
     "output_type": "display_data"
    }
   ],
   "source": [
    "ee.Initialize()"
   ]
  },
  {
   "cell_type": "markdown",
   "id": "02178b3a-98c8-4085-90ed-2e9e37bb99f6",
   "metadata": {},
   "source": [
    "### Accessing Different Raster Products"
   ]
  },
  {
   "cell_type": "markdown",
   "id": "2ed5df6e-ea2c-4971-ae7f-3968bc1d0320",
   "metadata": {},
   "source": [
    "#### Climate and Weather"
   ]
  },
  {
   "cell_type": "markdown",
   "id": "aff3209f",
   "metadata": {},
   "source": [
    "3. Load Utah Boundary"
   ]
  },
  {
   "cell_type": "code",
   "execution_count": 153,
   "id": "a38bf3fc",
   "metadata": {},
   "outputs": [
    {
     "data": {
      "text/html": [
       "\n",
       "            <style>\n",
       "                .geemap-dark {\n",
       "                    --jp-widgets-color: white;\n",
       "                    --jp-widgets-label-color: white;\n",
       "                    --jp-ui-font-color1: white;\n",
       "                    --jp-layout-color2: #454545;\n",
       "                    background-color: #383838;\n",
       "                }\n",
       "\n",
       "                .geemap-dark .jupyter-button {\n",
       "                    --jp-layout-color3: #383838;\n",
       "                }\n",
       "\n",
       "                .geemap-colab {\n",
       "                    background-color: var(--colab-primary-surface-color, white);\n",
       "                }\n",
       "\n",
       "                .geemap-colab .jupyter-button {\n",
       "                    --jp-layout-color3: var(--colab-primary-surface-color, white);\n",
       "                }\n",
       "            </style>\n",
       "            "
      ],
      "text/plain": [
       "<IPython.core.display.HTML object>"
      ]
     },
     "metadata": {},
     "output_type": "display_data"
    }
   ],
   "source": [
    "boundary_cache_county = (\n",
    "    ee.FeatureCollection(\"TIGER/2018/Counties\")\n",
    "    .filter(ee.Filter.eq('NAME', 'Cache'))\\\n",
    "    .first()\n",
    ")\n",
    "\n",
    "# print(boundary_cache_county.getInfo())"
   ]
  },
  {
   "cell_type": "code",
   "execution_count": 154,
   "id": "f8bcf6bc",
   "metadata": {},
   "outputs": [
    {
     "data": {
      "text/html": [
       "\n",
       "            <style>\n",
       "                .geemap-dark {\n",
       "                    --jp-widgets-color: white;\n",
       "                    --jp-widgets-label-color: white;\n",
       "                    --jp-ui-font-color1: white;\n",
       "                    --jp-layout-color2: #454545;\n",
       "                    background-color: #383838;\n",
       "                }\n",
       "\n",
       "                .geemap-dark .jupyter-button {\n",
       "                    --jp-layout-color3: #383838;\n",
       "                }\n",
       "\n",
       "                .geemap-colab {\n",
       "                    background-color: var(--colab-primary-surface-color, white);\n",
       "                }\n",
       "\n",
       "                .geemap-colab .jupyter-button {\n",
       "                    --jp-layout-color3: var(--colab-primary-surface-color, white);\n",
       "                }\n",
       "            </style>\n",
       "            "
      ],
      "text/plain": [
       "<IPython.core.display.HTML object>"
      ]
     },
     "metadata": {},
     "output_type": "display_data"
    },
    {
     "name": "stdout",
     "output_type": "stream",
     "text": [
      "{'type': 'Image', 'bands': [{'id': 'R', 'data_type': {'type': 'PixelType', 'precision': 'int', 'min': 0, 'max': 255}, 'crs': 'EPSG:4326', 'crs_transform': [1, 0, 0, 0, 1, 0]}, {'id': 'G', 'data_type': {'type': 'PixelType', 'precision': 'int', 'min': 0, 'max': 255}, 'crs': 'EPSG:4326', 'crs_transform': [1, 0, 0, 0, 1, 0]}, {'id': 'B', 'data_type': {'type': 'PixelType', 'precision': 'int', 'min': 0, 'max': 255}, 'crs': 'EPSG:4326', 'crs_transform': [1, 0, 0, 0, 1, 0]}, {'id': 'N', 'data_type': {'type': 'PixelType', 'precision': 'int', 'min': 0, 'max': 255}, 'crs': 'EPSG:4326', 'crs_transform': [1, 0, 0, 0, 1, 0]}]}\n"
     ]
    }
   ],
   "source": [
    "dataset = (\n",
    "    ee.ImageCollection(\"USDA/NAIP/DOQQ\")\n",
    "    .filterDate('2021-01-01' ,'2024-12-31')\n",
    "#     .filterBounds(boundary_cache_county.geometry())\n",
    "    .mosaic()\n",
    ")\n",
    "\n",
    "print(dataset.getInfo())"
   ]
  },
  {
   "cell_type": "code",
   "execution_count": 155,
   "id": "74cefdad",
   "metadata": {},
   "outputs": [
    {
     "data": {
      "text/html": [
       "\n",
       "            <style>\n",
       "                .geemap-dark {\n",
       "                    --jp-widgets-color: white;\n",
       "                    --jp-widgets-label-color: white;\n",
       "                    --jp-ui-font-color1: white;\n",
       "                    --jp-layout-color2: #454545;\n",
       "                    background-color: #383838;\n",
       "                }\n",
       "\n",
       "                .geemap-dark .jupyter-button {\n",
       "                    --jp-layout-color3: #383838;\n",
       "                }\n",
       "\n",
       "                .geemap-colab {\n",
       "                    background-color: var(--colab-primary-surface-color, white);\n",
       "                }\n",
       "\n",
       "                .geemap-colab .jupyter-button {\n",
       "                    --jp-layout-color3: var(--colab-primary-surface-color, white);\n",
       "                }\n",
       "            </style>\n",
       "            "
      ],
      "text/plain": [
       "<IPython.core.display.HTML object>"
      ]
     },
     "metadata": {},
     "output_type": "display_data"
    }
   ],
   "source": [
    "dataset = dataset.clip(boundary_cache_county)"
   ]
  },
  {
   "cell_type": "code",
   "execution_count": 156,
   "id": "05edc536-e7c8-4e05-abb2-cf1d5408c82b",
   "metadata": {},
   "outputs": [
    {
     "data": {
      "text/html": [
       "\n",
       "            <style>\n",
       "                .geemap-dark {\n",
       "                    --jp-widgets-color: white;\n",
       "                    --jp-widgets-label-color: white;\n",
       "                    --jp-ui-font-color1: white;\n",
       "                    --jp-layout-color2: #454545;\n",
       "                    background-color: #383838;\n",
       "                }\n",
       "\n",
       "                .geemap-dark .jupyter-button {\n",
       "                    --jp-layout-color3: #383838;\n",
       "                }\n",
       "\n",
       "                .geemap-colab {\n",
       "                    background-color: var(--colab-primary-surface-color, white);\n",
       "                }\n",
       "\n",
       "                .geemap-colab .jupyter-button {\n",
       "                    --jp-layout-color3: var(--colab-primary-surface-color, white);\n",
       "                }\n",
       "            </style>\n",
       "            "
      ],
      "text/plain": [
       "<IPython.core.display.HTML object>"
      ]
     },
     "metadata": {},
     "output_type": "display_data"
    },
    {
     "data": {
      "application/vnd.jupyter.widget-view+json": {
       "model_id": "08ab348e180d4d089f0f5e12fb0db5c1",
       "version_major": 2,
       "version_minor": 0
      },
      "text/plain": [
       "Map(center=[41.72212265509924, -111.74343433294621], controls=(WidgetControl(options=['position', 'transparent…"
      ]
     },
     "execution_count": 156,
     "metadata": {},
     "output_type": "execute_result"
    }
   ],
   "source": [
    "naturalColor = dataset.select(['R', 'G', 'B']);\n",
    "\n",
    "naturalColorVis = {\n",
    "    min: 0,\n",
    "    max: 255,\n",
    "}\n",
    "\n",
    "Map1 = geemap.Map()\n",
    "Map1.centerObject(boundary_cache_county, 10)\n",
    "\n",
    "Map1.addLayer(naturalColor, naturalColorVis, '2021 USDA NAIP');\n",
    "\n",
    "Map1"
   ]
  },
  {
   "cell_type": "code",
   "execution_count": 157,
   "id": "ea187b08-94cd-41cb-b56e-804fff620be4",
   "metadata": {},
   "outputs": [
    {
     "data": {
      "text/html": [
       "\n",
       "            <style>\n",
       "                .geemap-dark {\n",
       "                    --jp-widgets-color: white;\n",
       "                    --jp-widgets-label-color: white;\n",
       "                    --jp-ui-font-color1: white;\n",
       "                    --jp-layout-color2: #454545;\n",
       "                    background-color: #383838;\n",
       "                }\n",
       "\n",
       "                .geemap-dark .jupyter-button {\n",
       "                    --jp-layout-color3: #383838;\n",
       "                }\n",
       "\n",
       "                .geemap-colab {\n",
       "                    background-color: var(--colab-primary-surface-color, white);\n",
       "                }\n",
       "\n",
       "                .geemap-colab .jupyter-button {\n",
       "                    --jp-layout-color3: var(--colab-primary-surface-color, white);\n",
       "                }\n",
       "            </style>\n",
       "            "
      ],
      "text/plain": [
       "<IPython.core.display.HTML object>"
      ]
     },
     "metadata": {},
     "output_type": "display_data"
    },
    {
     "data": {
      "application/vnd.jupyter.widget-view+json": {
       "model_id": "a5eb1c73c0dc4a42ab751a8ac8cdbb55",
       "version_major": 2,
       "version_minor": 0
      },
      "text/plain": [
       "Map(center=[41.72212265509924, -111.74343433294621], controls=(WidgetControl(options=['position', 'transparent…"
      ]
     },
     "execution_count": 157,
     "metadata": {},
     "output_type": "execute_result"
    }
   ],
   "source": [
    "falseColor = dataset.select(['N', 'R', 'G']);\n",
    "\n",
    "falseColorVis = {\n",
    "    min: 0,\n",
    "    max: 255,\n",
    "}\n",
    "\n",
    "Map2 = geemap.Map()\n",
    "Map2.centerObject(boundary_cache_county, 10)\n",
    "\n",
    "Map2.addLayer(falseColor, falseColorVis, '2021 false color USDA NAIP');\n",
    "\n",
    "Map2"
   ]
  },
  {
   "cell_type": "code",
   "execution_count": null,
   "id": "56139fc6",
   "metadata": {},
   "outputs": [],
   "source": []
  },
  {
   "cell_type": "code",
   "execution_count": 158,
   "id": "654b91ca",
   "metadata": {},
   "outputs": [
    {
     "data": {
      "text/html": [
       "\n",
       "            <style>\n",
       "                .geemap-dark {\n",
       "                    --jp-widgets-color: white;\n",
       "                    --jp-widgets-label-color: white;\n",
       "                    --jp-ui-font-color1: white;\n",
       "                    --jp-layout-color2: #454545;\n",
       "                    background-color: #383838;\n",
       "                }\n",
       "\n",
       "                .geemap-dark .jupyter-button {\n",
       "                    --jp-layout-color3: #383838;\n",
       "                }\n",
       "\n",
       "                .geemap-colab {\n",
       "                    background-color: var(--colab-primary-surface-color, white);\n",
       "                }\n",
       "\n",
       "                .geemap-colab .jupyter-button {\n",
       "                    --jp-layout-color3: var(--colab-primary-surface-color, white);\n",
       "                }\n",
       "            </style>\n",
       "            "
      ],
      "text/plain": [
       "<IPython.core.display.HTML object>"
      ]
     },
     "metadata": {},
     "output_type": "display_data"
    }
   ],
   "source": [
    "def mask_s2_clouds(sentinel2_image):\n",
    "  \"\"\"Masks clouds in a Sentinel-2 image using the QA band.\n",
    "\n",
    "  Args:\n",
    "      sentinel2_image (ee.Image): A Sentinel-2 image.\n",
    "\n",
    "  Returns:\n",
    "      ee.Image: A cloud-masked Sentinel-2 image.\n",
    "  \"\"\"\n",
    "  qa = sentinel2_image.select('QA60')\n",
    "\n",
    "  # Bits 10 and 11 are clouds and cirrus, respectively.\n",
    "  cloud_bit_mask = 1 << 10\n",
    "  cirrus_bit_mask = 1 << 11\n",
    "\n",
    "  # Both flags should be set to zero, indicating clear conditions.\n",
    "  mask = (\n",
    "      qa.bitwiseAnd(cloud_bit_mask)\n",
    "      .eq(0)\n",
    "      .And(qa.bitwiseAnd(cirrus_bit_mask).eq(0))\n",
    "  )\n",
    "\n",
    "  return sentinel2_image.updateMask(mask).divide(10000)"
   ]
  },
  {
   "cell_type": "code",
   "execution_count": 159,
   "id": "cf41d466",
   "metadata": {},
   "outputs": [
    {
     "data": {
      "text/html": [
       "\n",
       "            <style>\n",
       "                .geemap-dark {\n",
       "                    --jp-widgets-color: white;\n",
       "                    --jp-widgets-label-color: white;\n",
       "                    --jp-ui-font-color1: white;\n",
       "                    --jp-layout-color2: #454545;\n",
       "                    background-color: #383838;\n",
       "                }\n",
       "\n",
       "                .geemap-dark .jupyter-button {\n",
       "                    --jp-layout-color3: #383838;\n",
       "                }\n",
       "\n",
       "                .geemap-colab {\n",
       "                    background-color: var(--colab-primary-surface-color, white);\n",
       "                }\n",
       "\n",
       "                .geemap-colab .jupyter-button {\n",
       "                    --jp-layout-color3: var(--colab-primary-surface-color, white);\n",
       "                }\n",
       "            </style>\n",
       "            "
      ],
      "text/plain": [
       "<IPython.core.display.HTML object>"
      ]
     },
     "metadata": {},
     "output_type": "display_data"
    },
    {
     "data": {
      "application/vnd.jupyter.widget-view+json": {
       "model_id": "fbb411c86e8d4dcab39414f3c14e1fe3",
       "version_major": 2,
       "version_minor": 0
      },
      "text/plain": [
       "Map(center=[41.72212265509924, -111.74343433294621], controls=(WidgetControl(options=['position', 'transparent…"
      ]
     },
     "execution_count": 159,
     "metadata": {},
     "output_type": "execute_result"
    }
   ],
   "source": [
    "dataset = (\n",
    "    ee.ImageCollection('COPERNICUS/S2_SR_HARMONIZED')\n",
    "    .filterDate('2023-06-01', '2023-06-30')\n",
    "#     .filterBounds(boundary_cache_county.geometry())\n",
    "    # Pre-filter to get less cloudy granules.\n",
    "    .filter(ee.Filter.lt('CLOUDY_PIXEL_PERCENTAGE', 10))\n",
    "    .map(mask_s2_clouds)\n",
    "    .mosaic() # to get a single image change this command to first(), for mosaic, use mosaic()\n",
    ")\n",
    "\n",
    "\n",
    "dataset = dataset.clip(boundary_cache_county)\n",
    "\n",
    "visualization = {\n",
    "    'min': 0.0,\n",
    "    'max': 0.3,\n",
    "    'bands': ['B4', 'B3', 'B2'],\n",
    "}\n",
    "\n",
    "Map3 = geemap.Map()\n",
    "Map3.centerObject(boundary_cache_county, 10)\n",
    "Map3.add_layer(dataset, visualization, 'RGB')\n",
    "Map3"
   ]
  },
  {
   "cell_type": "code",
   "execution_count": 160,
   "id": "0113c1ca",
   "metadata": {},
   "outputs": [
    {
     "data": {
      "text/html": [
       "\n",
       "            <style>\n",
       "                .geemap-dark {\n",
       "                    --jp-widgets-color: white;\n",
       "                    --jp-widgets-label-color: white;\n",
       "                    --jp-ui-font-color1: white;\n",
       "                    --jp-layout-color2: #454545;\n",
       "                    background-color: #383838;\n",
       "                }\n",
       "\n",
       "                .geemap-dark .jupyter-button {\n",
       "                    --jp-layout-color3: #383838;\n",
       "                }\n",
       "\n",
       "                .geemap-colab {\n",
       "                    background-color: var(--colab-primary-surface-color, white);\n",
       "                }\n",
       "\n",
       "                .geemap-colab .jupyter-button {\n",
       "                    --jp-layout-color3: var(--colab-primary-surface-color, white);\n",
       "                }\n",
       "            </style>\n",
       "            "
      ],
      "text/plain": [
       "<IPython.core.display.HTML object>"
      ]
     },
     "metadata": {},
     "output_type": "display_data"
    },
    {
     "data": {
      "application/vnd.jupyter.widget-view+json": {
       "model_id": "7424c6822ace47f8b85f13daed7c0ab5",
       "version_major": 2,
       "version_minor": 0
      },
      "text/plain": [
       "Map(center=[41.72212265509924, -111.74343433294621], controls=(WidgetControl(options=['position', 'transparent…"
      ]
     },
     "execution_count": 160,
     "metadata": {},
     "output_type": "execute_result"
    }
   ],
   "source": [
    "dataset = (\n",
    "    ee.ImageCollection('COPERNICUS/S3/OLCI')\n",
    "#     .filterDate('2024-05-29', '2024-05-30')\n",
    "    .closest('2024-06-01')\n",
    "#     .filterBounds(boundary_cache_county.geometry())\n",
    "    .mosaic() # to get a single image change this command to first(), for mosaic, use mosaic()\n",
    ")\n",
    "\n",
    "# Select bands for visualization and apply band-specific scale factors.\n",
    "rgb = (\n",
    "    dataset.select(['Oa08_radiance', 'Oa06_radiance', 'Oa04_radiance'])\n",
    "    #Convert to radiance units.\n",
    "    .multiply(ee.Image([0.00876539, 0.0123538, 0.0115198]))\n",
    ")\n",
    "\n",
    "rgb = rgb.clip(boundary_cache_county)\n",
    "\n",
    "\n",
    "visParams = {\n",
    "  'min': 0,\n",
    "  'max': 3,\n",
    "  'gamma': 1.5,\n",
    "}\n",
    "\n",
    "Map4 = geemap.Map()\n",
    "Map4.centerObject(boundary_cache_county, 10)\n",
    "Map4.addLayer(rgb, visParams, 'RGB')\n",
    "Map4"
   ]
  },
  {
   "cell_type": "code",
   "execution_count": 161,
   "id": "cd9af8bd",
   "metadata": {},
   "outputs": [
    {
     "data": {
      "text/html": [
       "\n",
       "            <style>\n",
       "                .geemap-dark {\n",
       "                    --jp-widgets-color: white;\n",
       "                    --jp-widgets-label-color: white;\n",
       "                    --jp-ui-font-color1: white;\n",
       "                    --jp-layout-color2: #454545;\n",
       "                    background-color: #383838;\n",
       "                }\n",
       "\n",
       "                .geemap-dark .jupyter-button {\n",
       "                    --jp-layout-color3: #383838;\n",
       "                }\n",
       "\n",
       "                .geemap-colab {\n",
       "                    background-color: var(--colab-primary-surface-color, white);\n",
       "                }\n",
       "\n",
       "                .geemap-colab .jupyter-button {\n",
       "                    --jp-layout-color3: var(--colab-primary-surface-color, white);\n",
       "                }\n",
       "            </style>\n",
       "            "
      ],
      "text/plain": [
       "<IPython.core.display.HTML object>"
      ]
     },
     "metadata": {},
     "output_type": "display_data"
    },
    {
     "data": {
      "application/vnd.jupyter.widget-view+json": {
       "model_id": "4b417d94680f47778eb3a028089dac82",
       "version_major": 2,
       "version_minor": 0
      },
      "text/plain": [
       "Map(center=[41.72212265509924, -111.74343433294621], controls=(WidgetControl(options=['position', 'transparent…"
      ]
     },
     "execution_count": 161,
     "metadata": {},
     "output_type": "execute_result"
    }
   ],
   "source": [
    "dataset = (\n",
    "    ee.ImageCollection('MODIS/061/MOD09GA')\n",
    "    .closest('2023-07-01')\n",
    "    .maskClouds()\n",
    "#     .filterBounds(boundary_cache_county.geometry())\n",
    "    .mosaic() # to get a single image change this command to first(), for mosaic, use mosaic()\n",
    ")\n",
    "\n",
    "\n",
    "trueColor143 = (\n",
    "    dataset.select(['sur_refl_b01', 'sur_refl_b04', 'sur_refl_b03']).divide(10000)\n",
    ")\n",
    "\n",
    "trueColor143 = trueColor143.clip(boundary_cache_county)\n",
    "\n",
    "    \n",
    "trueColor143Vis = {\n",
    "  'min': 0,\n",
    "  'max': 0.3,\n",
    "}\n",
    "\n",
    "Map5 = geemap.Map()\n",
    "Map5.centerObject(boundary_cache_county, 10)\n",
    "Map5.addLayer(trueColor143, trueColor143Vis, 'True Color (143)')\n",
    "Map5"
   ]
  },
  {
   "cell_type": "code",
   "execution_count": 162,
   "id": "2af35019",
   "metadata": {},
   "outputs": [
    {
     "data": {
      "text/html": [
       "\n",
       "            <style>\n",
       "                .geemap-dark {\n",
       "                    --jp-widgets-color: white;\n",
       "                    --jp-widgets-label-color: white;\n",
       "                    --jp-ui-font-color1: white;\n",
       "                    --jp-layout-color2: #454545;\n",
       "                    background-color: #383838;\n",
       "                }\n",
       "\n",
       "                .geemap-dark .jupyter-button {\n",
       "                    --jp-layout-color3: #383838;\n",
       "                }\n",
       "\n",
       "                .geemap-colab {\n",
       "                    background-color: var(--colab-primary-surface-color, white);\n",
       "                }\n",
       "\n",
       "                .geemap-colab .jupyter-button {\n",
       "                    --jp-layout-color3: var(--colab-primary-surface-color, white);\n",
       "                }\n",
       "            </style>\n",
       "            "
      ],
      "text/plain": [
       "<IPython.core.display.HTML object>"
      ]
     },
     "metadata": {},
     "output_type": "display_data"
    },
    {
     "data": {
      "application/vnd.jupyter.widget-view+json": {
       "model_id": "353d01170e3d48adaa08130815eb9823",
       "version_major": 2,
       "version_minor": 0
      },
      "text/plain": [
       "Map(center=[41.72212265509924, -111.74343433294621], controls=(WidgetControl(options=['position', 'transparent…"
      ]
     },
     "execution_count": 162,
     "metadata": {},
     "output_type": "execute_result"
    }
   ],
   "source": [
    "# Applies scaling factors.\n",
    "def apply_scale_factors(landsat_image):\n",
    "  optical_bands = landsat_image.select('SR_B.').multiply(0.0000275).add(-0.2)\n",
    "  thermal_bands = landsat_image.select('ST_B.*').multiply(0.00341802).add(149.0)\n",
    "  return landsat_image.addBands(optical_bands, None, True).addBands(\n",
    "      thermal_bands, None, True\n",
    "  )\n",
    "\n",
    "\n",
    "dataset = (\n",
    "    ee.ImageCollection('LANDSAT/LC09/C02/T1_L2')\n",
    "    .filterDate('2024-04-01', '2024-05-30')\n",
    "    .maskClouds()\n",
    "    .map(apply_scale_factors)\n",
    "#     .filterBounds(boundary_cache_county.geometry())\n",
    "    .mosaic() # to get a single image change this command to first(), for mosaic, use mosaic()\n",
    ")\n",
    "    \n",
    "\n",
    "dataset = dataset.clip(boundary_cache_county)\n",
    "\n",
    "\n",
    "visualization = {\n",
    "    'bands': ['SR_B4', 'SR_B3', 'SR_B2'],\n",
    "    'min': 0.0,\n",
    "    'max': 0.5,\n",
    "}\n",
    "\n",
    "Map6 = geemap.Map()\n",
    "Map6.centerObject(boundary_cache_county, 10)\n",
    "Map6.add_layer(dataset, visualization, 'True Color (432)')\n",
    "Map6"
   ]
  },
  {
   "cell_type": "code",
   "execution_count": null,
   "id": "38307bd4",
   "metadata": {},
   "outputs": [],
   "source": []
  },
  {
   "cell_type": "code",
   "execution_count": null,
   "id": "e44ff5ff",
   "metadata": {},
   "outputs": [],
   "source": []
  }
 ],
 "metadata": {
  "kernelspec": {
   "display_name": "Python 3 (ipykernel)",
   "language": "python",
   "name": "python3"
  },
  "language_info": {
   "codemirror_mode": {
    "name": "ipython",
    "version": 3
   },
   "file_extension": ".py",
   "mimetype": "text/x-python",
   "name": "python",
   "nbconvert_exporter": "python",
   "pygments_lexer": "ipython3",
   "version": "3.11.9"
  }
 },
 "nbformat": 4,
 "nbformat_minor": 5
}
