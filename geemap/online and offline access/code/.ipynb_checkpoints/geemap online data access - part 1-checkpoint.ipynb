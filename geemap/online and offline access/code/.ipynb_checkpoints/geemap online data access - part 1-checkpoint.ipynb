{
 "cells": [
  {
   "cell_type": "markdown",
   "id": "a705500d-420d-4c6f-ac89-8f8bc1690fea",
   "metadata": {
    "slideshow": {
     "slide_type": ""
    },
    "tags": []
   },
   "source": [
    "# GEEMAP ONLINE AND OFFLINE DATA ACCESS \n",
    "## (PART 1 - SINGLE BAND SPATIAL DATA)\n",
    "\n",
    "Course: CEE5003 Remote Sensing of Land Surfaces  \n",
    "\n",
    "Created by: Alfonso Torres  \n",
    "\n",
    "Date: May 2024\n",
    "\n",
    "***"
   ]
  },
  {
   "cell_type": "markdown",
   "id": "7e5f1d36",
   "metadata": {},
   "source": [
    "### Goal \n",
    "\n",
    "Demonstrate data access and retrieval when using Google Earth Engine \n",
    "***"
   ]
  },
  {
   "cell_type": "markdown",
   "id": "110ca77c",
   "metadata": {},
   "source": [
    "### Data Sources\n",
    "\n",
    "* Cloud:  \n",
    " a. GEE [NLDAS-2: North American Land Data Assimilation System Forcing Fields](https://developers.google.com/earth-engine/datasets/catalog/NASA_NLDAS_FORA0125_H002#description)    \n",
    "\n",
    "   Products of interest\n",
    "\n",
    "   precipitation \"total_precipitation\"\t  \n",
    "   air temperature at 2 meters \"temperature\"  \n",
    "   evapotranspiration \"potential_evaporation\"\n",
    "\n",
    " b. GEE [TIGER: US Census States 2018](https://developers.google.com/earth-engine/datasets/catalog/TIGER_2018_States)  \n",
    "\n",
    "\n",
    "\n",
    "\n",
    "* Local:\n",
    "    None  \n",
    "\n",
    "***"
   ]
  },
  {
   "cell_type": "markdown",
   "id": "03d981c9-18c3-44b9-b5bf-29c2fdca9f73",
   "metadata": {},
   "source": [
    "### Implementation"
   ]
  },
  {
   "cell_type": "markdown",
   "id": "135a0b7a",
   "metadata": {},
   "source": [
    "1. Importing modules"
   ]
  },
  {
   "cell_type": "code",
   "execution_count": 97,
   "id": "06b2df0c-5cd7-40ed-9c53-5d5b086f75be",
   "metadata": {},
   "outputs": [
    {
     "data": {
      "text/html": [
       "\n",
       "            <style>\n",
       "                .geemap-dark {\n",
       "                    --jp-widgets-color: white;\n",
       "                    --jp-widgets-label-color: white;\n",
       "                    --jp-ui-font-color1: white;\n",
       "                    --jp-layout-color2: #454545;\n",
       "                    background-color: #383838;\n",
       "                }\n",
       "\n",
       "                .geemap-dark .jupyter-button {\n",
       "                    --jp-layout-color3: #383838;\n",
       "                }\n",
       "\n",
       "                .geemap-colab {\n",
       "                    background-color: var(--colab-primary-surface-color, white);\n",
       "                }\n",
       "\n",
       "                .geemap-colab .jupyter-button {\n",
       "                    --jp-layout-color3: var(--colab-primary-surface-color, white);\n",
       "                }\n",
       "            </style>\n",
       "            "
      ],
      "text/plain": [
       "<IPython.core.display.HTML object>"
      ]
     },
     "metadata": {},
     "output_type": "display_data"
    }
   ],
   "source": [
    "import ee\n",
    "import geemap\n",
    "import eemont\n",
    "import pprint"
   ]
  },
  {
   "cell_type": "code",
   "execution_count": 98,
   "id": "c6aa1e75-5074-4fd0-9e35-7d9f1479514c",
   "metadata": {},
   "outputs": [
    {
     "data": {
      "text/html": [
       "\n",
       "            <style>\n",
       "                .geemap-dark {\n",
       "                    --jp-widgets-color: white;\n",
       "                    --jp-widgets-label-color: white;\n",
       "                    --jp-ui-font-color1: white;\n",
       "                    --jp-layout-color2: #454545;\n",
       "                    background-color: #383838;\n",
       "                }\n",
       "\n",
       "                .geemap-dark .jupyter-button {\n",
       "                    --jp-layout-color3: #383838;\n",
       "                }\n",
       "\n",
       "                .geemap-colab {\n",
       "                    background-color: var(--colab-primary-surface-color, white);\n",
       "                }\n",
       "\n",
       "                .geemap-colab .jupyter-button {\n",
       "                    --jp-layout-color3: var(--colab-primary-surface-color, white);\n",
       "                }\n",
       "            </style>\n",
       "            "
      ],
      "text/plain": [
       "<IPython.core.display.HTML object>"
      ]
     },
     "metadata": {},
     "output_type": "display_data"
    }
   ],
   "source": [
    "##### uncomment this cell and run it if the cell below fails\n",
    "# import geemap\n",
    "# m = geemap.Map()\n",
    "# m"
   ]
  },
  {
   "cell_type": "markdown",
   "id": "281f6e35",
   "metadata": {},
   "source": [
    "2. Initialize Earth Engine"
   ]
  },
  {
   "cell_type": "code",
   "execution_count": 99,
   "id": "0563d5c0",
   "metadata": {},
   "outputs": [
    {
     "data": {
      "text/html": [
       "\n",
       "            <style>\n",
       "                .geemap-dark {\n",
       "                    --jp-widgets-color: white;\n",
       "                    --jp-widgets-label-color: white;\n",
       "                    --jp-ui-font-color1: white;\n",
       "                    --jp-layout-color2: #454545;\n",
       "                    background-color: #383838;\n",
       "                }\n",
       "\n",
       "                .geemap-dark .jupyter-button {\n",
       "                    --jp-layout-color3: #383838;\n",
       "                }\n",
       "\n",
       "                .geemap-colab {\n",
       "                    background-color: var(--colab-primary-surface-color, white);\n",
       "                }\n",
       "\n",
       "                .geemap-colab .jupyter-button {\n",
       "                    --jp-layout-color3: var(--colab-primary-surface-color, white);\n",
       "                }\n",
       "            </style>\n",
       "            "
      ],
      "text/plain": [
       "<IPython.core.display.HTML object>"
      ]
     },
     "metadata": {},
     "output_type": "display_data"
    }
   ],
   "source": [
    "ee.Initialize()"
   ]
  },
  {
   "cell_type": "markdown",
   "id": "02178b3a-98c8-4085-90ed-2e9e37bb99f6",
   "metadata": {},
   "source": [
    "### Accessing Different Raster Products"
   ]
  },
  {
   "cell_type": "markdown",
   "id": "2ed5df6e-ea2c-4971-ae7f-3968bc1d0320",
   "metadata": {},
   "source": [
    "#### Climate and Weather"
   ]
  },
  {
   "cell_type": "markdown",
   "id": "aff3209f",
   "metadata": {},
   "source": [
    "3. Load Utah Boundary"
   ]
  },
  {
   "cell_type": "code",
   "execution_count": 100,
   "id": "85648188-7aa0-4bd0-a384-8f37b739d86d",
   "metadata": {},
   "outputs": [
    {
     "data": {
      "text/html": [
       "\n",
       "            <style>\n",
       "                .geemap-dark {\n",
       "                    --jp-widgets-color: white;\n",
       "                    --jp-widgets-label-color: white;\n",
       "                    --jp-ui-font-color1: white;\n",
       "                    --jp-layout-color2: #454545;\n",
       "                    background-color: #383838;\n",
       "                }\n",
       "\n",
       "                .geemap-dark .jupyter-button {\n",
       "                    --jp-layout-color3: #383838;\n",
       "                }\n",
       "\n",
       "                .geemap-colab {\n",
       "                    background-color: var(--colab-primary-surface-color, white);\n",
       "                }\n",
       "\n",
       "                .geemap-colab .jupyter-button {\n",
       "                    --jp-layout-color3: var(--colab-primary-surface-color, white);\n",
       "                }\n",
       "            </style>\n",
       "            "
      ],
      "text/plain": [
       "<IPython.core.display.HTML object>"
      ]
     },
     "metadata": {},
     "output_type": "display_data"
    }
   ],
   "source": [
    "boundary_ut =ee.FeatureCollection(\"TIGER/2018/States\").filter(ee.Filter.eq('NAME', 'Utah')).first()"
   ]
  },
  {
   "cell_type": "code",
   "execution_count": 101,
   "id": "dd3c9c76-1ebb-4176-aaca-a3783e8b2636",
   "metadata": {},
   "outputs": [
    {
     "data": {
      "text/html": [
       "\n",
       "            <style>\n",
       "                .geemap-dark {\n",
       "                    --jp-widgets-color: white;\n",
       "                    --jp-widgets-label-color: white;\n",
       "                    --jp-ui-font-color1: white;\n",
       "                    --jp-layout-color2: #454545;\n",
       "                    background-color: #383838;\n",
       "                }\n",
       "\n",
       "                .geemap-dark .jupyter-button {\n",
       "                    --jp-layout-color3: #383838;\n",
       "                }\n",
       "\n",
       "                .geemap-colab {\n",
       "                    background-color: var(--colab-primary-surface-color, white);\n",
       "                }\n",
       "\n",
       "                .geemap-colab .jupyter-button {\n",
       "                    --jp-layout-color3: var(--colab-primary-surface-color, white);\n",
       "                }\n",
       "            </style>\n",
       "            "
      ],
      "text/plain": [
       "<IPython.core.display.HTML object>"
      ]
     },
     "metadata": {},
     "output_type": "display_data"
    }
   ],
   "source": [
    "#boundary_ut"
   ]
  },
  {
   "cell_type": "markdown",
   "id": "dc54d817",
   "metadata": {},
   "source": [
    "4. Import NLDAS Data "
   ]
  },
  {
   "cell_type": "code",
   "execution_count": 102,
   "id": "351b1973-e1a8-496f-9403-30adf1ecec16",
   "metadata": {},
   "outputs": [
    {
     "data": {
      "text/html": [
       "\n",
       "            <style>\n",
       "                .geemap-dark {\n",
       "                    --jp-widgets-color: white;\n",
       "                    --jp-widgets-label-color: white;\n",
       "                    --jp-ui-font-color1: white;\n",
       "                    --jp-layout-color2: #454545;\n",
       "                    background-color: #383838;\n",
       "                }\n",
       "\n",
       "                .geemap-dark .jupyter-button {\n",
       "                    --jp-layout-color3: #383838;\n",
       "                }\n",
       "\n",
       "                .geemap-colab {\n",
       "                    background-color: var(--colab-primary-surface-color, white);\n",
       "                }\n",
       "\n",
       "                .geemap-colab .jupyter-button {\n",
       "                    --jp-layout-color3: var(--colab-primary-surface-color, white);\n",
       "                }\n",
       "            </style>\n",
       "            "
      ],
      "text/plain": [
       "<IPython.core.display.HTML object>"
      ]
     },
     "metadata": {},
     "output_type": "display_data"
    }
   ],
   "source": [
    "NLDAS_daily = ee.ImageCollection(\"NASA/NLDAS/FORA0125_H002\")"
   ]
  },
  {
   "cell_type": "markdown",
   "id": "4c83d464-e689-4d8a-a14f-01fb7c66bb49",
   "metadata": {},
   "source": [
    "5. Clip ERAS5 products of interest for the most recent April 1st"
   ]
  },
  {
   "cell_type": "code",
   "execution_count": 103,
   "id": "c5f54cf3-7615-45a7-85b4-82959287400b",
   "metadata": {},
   "outputs": [
    {
     "data": {
      "text/html": [
       "\n",
       "            <style>\n",
       "                .geemap-dark {\n",
       "                    --jp-widgets-color: white;\n",
       "                    --jp-widgets-label-color: white;\n",
       "                    --jp-ui-font-color1: white;\n",
       "                    --jp-layout-color2: #454545;\n",
       "                    background-color: #383838;\n",
       "                }\n",
       "\n",
       "                .geemap-dark .jupyter-button {\n",
       "                    --jp-layout-color3: #383838;\n",
       "                }\n",
       "\n",
       "                .geemap-colab {\n",
       "                    background-color: var(--colab-primary-surface-color, white);\n",
       "                }\n",
       "\n",
       "                .geemap-colab .jupyter-button {\n",
       "                    --jp-layout-color3: var(--colab-primary-surface-color, white);\n",
       "                }\n",
       "            </style>\n",
       "            "
      ],
      "text/plain": [
       "<IPython.core.display.HTML object>"
      ]
     },
     "metadata": {},
     "output_type": "display_data"
    }
   ],
   "source": [
    "#filtering by date: April 1st.\n",
    "date = '2024-05-15'"
   ]
  },
  {
   "cell_type": "code",
   "execution_count": 104,
   "id": "02b757fc-4df8-4e29-a79f-4d70368e4379",
   "metadata": {},
   "outputs": [
    {
     "data": {
      "text/html": [
       "\n",
       "            <style>\n",
       "                .geemap-dark {\n",
       "                    --jp-widgets-color: white;\n",
       "                    --jp-widgets-label-color: white;\n",
       "                    --jp-ui-font-color1: white;\n",
       "                    --jp-layout-color2: #454545;\n",
       "                    background-color: #383838;\n",
       "                }\n",
       "\n",
       "                .geemap-dark .jupyter-button {\n",
       "                    --jp-layout-color3: #383838;\n",
       "                }\n",
       "\n",
       "                .geemap-colab {\n",
       "                    background-color: var(--colab-primary-surface-color, white);\n",
       "                }\n",
       "\n",
       "                .geemap-colab .jupyter-button {\n",
       "                    --jp-layout-color3: var(--colab-primary-surface-color, white);\n",
       "                }\n",
       "            </style>\n",
       "            "
      ],
      "text/plain": [
       "<IPython.core.display.HTML object>"
      ]
     },
     "metadata": {},
     "output_type": "display_data"
    }
   ],
   "source": [
    "pp_ut = NLDAS_daily.closest(date).select('total_precipitation') .first()\n",
    "\n",
    "pp_ut = pp_ut.clip(boundary_ut)"
   ]
  },
  {
   "cell_type": "code",
   "execution_count": 105,
   "id": "37afe278-2c67-4560-a585-da7e44786933",
   "metadata": {},
   "outputs": [
    {
     "data": {
      "text/html": [
       "\n",
       "            <style>\n",
       "                .geemap-dark {\n",
       "                    --jp-widgets-color: white;\n",
       "                    --jp-widgets-label-color: white;\n",
       "                    --jp-ui-font-color1: white;\n",
       "                    --jp-layout-color2: #454545;\n",
       "                    background-color: #383838;\n",
       "                }\n",
       "\n",
       "                .geemap-dark .jupyter-button {\n",
       "                    --jp-layout-color3: #383838;\n",
       "                }\n",
       "\n",
       "                .geemap-colab {\n",
       "                    background-color: var(--colab-primary-surface-color, white);\n",
       "                }\n",
       "\n",
       "                .geemap-colab .jupyter-button {\n",
       "                    --jp-layout-color3: var(--colab-primary-surface-color, white);\n",
       "                }\n",
       "            </style>\n",
       "            "
      ],
      "text/plain": [
       "<IPython.core.display.HTML object>"
      ]
     },
     "metadata": {},
     "output_type": "display_data"
    }
   ],
   "source": [
    "temp_ut = NLDAS_daily.closest(date).select('temperature') .first()\n",
    "\n",
    "temp_ut = temp_ut.clip(boundary_ut)"
   ]
  },
  {
   "cell_type": "code",
   "execution_count": 106,
   "id": "05edc536-e7c8-4e05-abb2-cf1d5408c82b",
   "metadata": {},
   "outputs": [
    {
     "data": {
      "text/html": [
       "\n",
       "            <style>\n",
       "                .geemap-dark {\n",
       "                    --jp-widgets-color: white;\n",
       "                    --jp-widgets-label-color: white;\n",
       "                    --jp-ui-font-color1: white;\n",
       "                    --jp-layout-color2: #454545;\n",
       "                    background-color: #383838;\n",
       "                }\n",
       "\n",
       "                .geemap-dark .jupyter-button {\n",
       "                    --jp-layout-color3: #383838;\n",
       "                }\n",
       "\n",
       "                .geemap-colab {\n",
       "                    background-color: var(--colab-primary-surface-color, white);\n",
       "                }\n",
       "\n",
       "                .geemap-colab .jupyter-button {\n",
       "                    --jp-layout-color3: var(--colab-primary-surface-color, white);\n",
       "                }\n",
       "            </style>\n",
       "            "
      ],
      "text/plain": [
       "<IPython.core.display.HTML object>"
      ]
     },
     "metadata": {},
     "output_type": "display_data"
    }
   ],
   "source": [
    "et0_ut = NLDAS_daily.closest(date).select('potential_evaporation') .first()\n",
    "\n",
    "et0_ut = et0_ut.clip(boundary_ut)"
   ]
  },
  {
   "cell_type": "markdown",
   "id": "72ceffee",
   "metadata": {},
   "source": [
    "6. To plot single rasters, we need their min and max values. Creating a function to do that."
   ]
  },
  {
   "cell_type": "code",
   "execution_count": 107,
   "id": "59edcc88-46df-4aa1-bfad-5b57ea77357a",
   "metadata": {},
   "outputs": [
    {
     "data": {
      "text/html": [
       "\n",
       "            <style>\n",
       "                .geemap-dark {\n",
       "                    --jp-widgets-color: white;\n",
       "                    --jp-widgets-label-color: white;\n",
       "                    --jp-ui-font-color1: white;\n",
       "                    --jp-layout-color2: #454545;\n",
       "                    background-color: #383838;\n",
       "                }\n",
       "\n",
       "                .geemap-dark .jupyter-button {\n",
       "                    --jp-layout-color3: #383838;\n",
       "                }\n",
       "\n",
       "                .geemap-colab {\n",
       "                    background-color: var(--colab-primary-surface-color, white);\n",
       "                }\n",
       "\n",
       "                .geemap-colab .jupyter-button {\n",
       "                    --jp-layout-color3: var(--colab-primary-surface-color, white);\n",
       "                }\n",
       "            </style>\n",
       "            "
      ],
      "text/plain": [
       "<IPython.core.display.HTML object>"
      ]
     },
     "metadata": {},
     "output_type": "display_data"
    }
   ],
   "source": [
    "# creating a function to estimate mins and maxs of an image\n",
    "\n",
    "def min_max_values(single_band_image):\n",
    "# getting the min and max value of a single band image\n",
    "    meanDictionary = single_band_image.reduceRegion(**{\n",
    "    'reducer': ee.Reducer.minMax(), #there are multiple reducers, this extract the min and max of an image\n",
    "    'geometry': single_band_image.geometry(),\n",
    "    'bestEffort':True\n",
    "    })\n",
    "# reduced values from an image area are reported in a python dictionary\n",
    "    max_min_values = meanDictionary.getInfo()\n",
    "    keys_list = list(max_min_values.keys())\n",
    "#extracting the keys names by index order from dictionary\n",
    "    max_key = keys_list[0]\n",
    "    min_key = keys_list[1]\n",
    "# extracting values by key names    \n",
    "    maxValue = meanDictionary.get(max_key).getInfo()\n",
    "    minValue = meanDictionary.get(min_key).getInfo()\n",
    "\n",
    "    #rounding the numbers\n",
    "    maxValue = round(maxValue)\n",
    "    minValue = round(minValue)\n",
    "\n",
    "    return (maxValue, minValue)"
   ]
  },
  {
   "cell_type": "markdown",
   "id": "244e1a3f",
   "metadata": {},
   "source": [
    "7. Creating a Map"
   ]
  },
  {
   "cell_type": "code",
   "execution_count": 108,
   "id": "8b0cd229-2aeb-49c0-9741-84974c0a5d4e",
   "metadata": {},
   "outputs": [
    {
     "data": {
      "text/html": [
       "\n",
       "            <style>\n",
       "                .geemap-dark {\n",
       "                    --jp-widgets-color: white;\n",
       "                    --jp-widgets-label-color: white;\n",
       "                    --jp-ui-font-color1: white;\n",
       "                    --jp-layout-color2: #454545;\n",
       "                    background-color: #383838;\n",
       "                }\n",
       "\n",
       "                .geemap-dark .jupyter-button {\n",
       "                    --jp-layout-color3: #383838;\n",
       "                }\n",
       "\n",
       "                .geemap-colab {\n",
       "                    background-color: var(--colab-primary-surface-color, white);\n",
       "                }\n",
       "\n",
       "                .geemap-colab .jupyter-button {\n",
       "                    --jp-layout-color3: var(--colab-primary-surface-color, white);\n",
       "                }\n",
       "            </style>\n",
       "            "
      ],
      "text/plain": [
       "<IPython.core.display.HTML object>"
      ]
     },
     "metadata": {},
     "output_type": "display_data"
    }
   ],
   "source": [
    "Map1 = geemap.Map()\n",
    "\n",
    "Map1.centerObject(boundary_ut, 6)\t\n"
   ]
  },
  {
   "cell_type": "markdown",
   "id": "d39c35bb",
   "metadata": {},
   "source": [
    "8. Preparing and displaying ERAS5 precipitation"
   ]
  },
  {
   "cell_type": "code",
   "execution_count": 109,
   "id": "7c3fea0d-5b34-412b-9e39-eccd5297205b",
   "metadata": {},
   "outputs": [
    {
     "data": {
      "text/html": [
       "\n",
       "            <style>\n",
       "                .geemap-dark {\n",
       "                    --jp-widgets-color: white;\n",
       "                    --jp-widgets-label-color: white;\n",
       "                    --jp-ui-font-color1: white;\n",
       "                    --jp-layout-color2: #454545;\n",
       "                    background-color: #383838;\n",
       "                }\n",
       "\n",
       "                .geemap-dark .jupyter-button {\n",
       "                    --jp-layout-color3: #383838;\n",
       "                }\n",
       "\n",
       "                .geemap-colab {\n",
       "                    background-color: var(--colab-primary-surface-color, white);\n",
       "                }\n",
       "\n",
       "                .geemap-colab .jupyter-button {\n",
       "                    --jp-layout-color3: var(--colab-primary-surface-color, white);\n",
       "                }\n",
       "            </style>\n",
       "            "
      ],
      "text/plain": [
       "<IPython.core.display.HTML object>"
      ]
     },
     "metadata": {},
     "output_type": "display_data"
    }
   ],
   "source": [
    "# getting the min and max value\n",
    "max_min_pp=min_max_values(pp_ut)\n",
    "\n",
    "# setting the colorbar from Colorbrewer\n",
    "color_range = ['#f7fbff','#deebf7','#c6dbef','#9ecae1','#6baed6','#4292c6','#2171b5','#08519c','#08306b']\n",
    "\n",
    "# setting up the value and color range \n",
    "singleBandVis = {\n",
    "    \"min\": max_min_swe[1],\n",
    "    \"max\": max_min_swe[0],\n",
    "    \"palette\": color_range\n",
    "}\n",
    "\n",
    "# adding a colorbar in the map\n",
    "palette = singleBandVis[\"palette\"]\n",
    "vmin = singleBandVis[\"min\"]\n",
    "vmax = singleBandVis[\"max\"]\n",
    "\n",
    "Map1.addLayer(pp_ut, singleBandVis, 'UT precipitation (kg/m^2)')\n",
    "Map1.add_colorbar_branca(colors=palette, vmin=vmin, vmax=vmax, layer_name=\"UT precipitation (kg/m^2)\")"
   ]
  },
  {
   "cell_type": "code",
   "execution_count": 110,
   "id": "d1ba4cc3-3614-46e0-ad80-2743d638bc8f",
   "metadata": {},
   "outputs": [
    {
     "data": {
      "text/html": [
       "\n",
       "            <style>\n",
       "                .geemap-dark {\n",
       "                    --jp-widgets-color: white;\n",
       "                    --jp-widgets-label-color: white;\n",
       "                    --jp-ui-font-color1: white;\n",
       "                    --jp-layout-color2: #454545;\n",
       "                    background-color: #383838;\n",
       "                }\n",
       "\n",
       "                .geemap-dark .jupyter-button {\n",
       "                    --jp-layout-color3: #383838;\n",
       "                }\n",
       "\n",
       "                .geemap-colab {\n",
       "                    background-color: var(--colab-primary-surface-color, white);\n",
       "                }\n",
       "\n",
       "                .geemap-colab .jupyter-button {\n",
       "                    --jp-layout-color3: var(--colab-primary-surface-color, white);\n",
       "                }\n",
       "            </style>\n",
       "            "
      ],
      "text/plain": [
       "<IPython.core.display.HTML object>"
      ]
     },
     "metadata": {},
     "output_type": "display_data"
    },
    {
     "data": {
      "application/vnd.jupyter.widget-view+json": {
       "model_id": "a83009a6ace44b56b9e6ad8f51287e14",
       "version_major": 2,
       "version_minor": 0
      },
      "text/plain": [
       "Map(center=[39.30553364092354, -111.67021681825779], controls=(WidgetControl(options=['position', 'transparent…"
      ]
     },
     "execution_count": 110,
     "metadata": {},
     "output_type": "execute_result"
    }
   ],
   "source": [
    "\n",
    "Map1"
   ]
  },
  {
   "cell_type": "markdown",
   "id": "fbd55bbf",
   "metadata": {},
   "source": [
    "9. Prepapring and displaying NLDAS air temperature"
   ]
  },
  {
   "cell_type": "code",
   "execution_count": 111,
   "id": "1fb0bd69",
   "metadata": {},
   "outputs": [
    {
     "data": {
      "text/html": [
       "\n",
       "            <style>\n",
       "                .geemap-dark {\n",
       "                    --jp-widgets-color: white;\n",
       "                    --jp-widgets-label-color: white;\n",
       "                    --jp-ui-font-color1: white;\n",
       "                    --jp-layout-color2: #454545;\n",
       "                    background-color: #383838;\n",
       "                }\n",
       "\n",
       "                .geemap-dark .jupyter-button {\n",
       "                    --jp-layout-color3: #383838;\n",
       "                }\n",
       "\n",
       "                .geemap-colab {\n",
       "                    background-color: var(--colab-primary-surface-color, white);\n",
       "                }\n",
       "\n",
       "                .geemap-colab .jupyter-button {\n",
       "                    --jp-layout-color3: var(--colab-primary-surface-color, white);\n",
       "                }\n",
       "            </style>\n",
       "            "
      ],
      "text/plain": [
       "<IPython.core.display.HTML object>"
      ]
     },
     "metadata": {},
     "output_type": "display_data"
    }
   ],
   "source": [
    "# getting the min and max value\n",
    "max_min_temp=min_max_values(temp_ut)\n",
    "\n",
    "# setting the colorbar from Colorbrewer\n",
    "color_range = ['#ffffcc','#ffeda0','#fed976','#feb24c','#fd8d3c','#fc4e2a','#e31a1c','#bd0026','#800026']\n",
    "\n",
    "# setting up the value and color range \n",
    "singleBandVis = {\n",
    "    \"min\": max_min_temp[1],\n",
    "    \"max\": max_min_temp[0],\n",
    "    \"palette\": color_range\n",
    "}\n",
    "\n",
    "# adding a colorbar in the map\n",
    "palette = singleBandVis[\"palette\"]\n",
    "vmin = singleBandVis[\"min\"]\n",
    "vmax = singleBandVis[\"max\"]\n",
    "\n",
    "Map1.addLayer(temp_ut, singleBandVis, 'UT air temp at 2m (°C)')\n",
    "Map1.add_colorbar_branca(colors=palette, vmin=vmin, vmax=vmax, layer_name=\"UT air temp at 2m (°C)\")"
   ]
  },
  {
   "cell_type": "markdown",
   "id": "5104811c",
   "metadata": {},
   "source": [
    "10. Preparing and dispaying NLDAS potential evapotranspiration"
   ]
  },
  {
   "cell_type": "code",
   "execution_count": 112,
   "id": "fb026b67-956c-4dd9-bf85-6675b7dc54a0",
   "metadata": {},
   "outputs": [
    {
     "data": {
      "text/html": [
       "\n",
       "            <style>\n",
       "                .geemap-dark {\n",
       "                    --jp-widgets-color: white;\n",
       "                    --jp-widgets-label-color: white;\n",
       "                    --jp-ui-font-color1: white;\n",
       "                    --jp-layout-color2: #454545;\n",
       "                    background-color: #383838;\n",
       "                }\n",
       "\n",
       "                .geemap-dark .jupyter-button {\n",
       "                    --jp-layout-color3: #383838;\n",
       "                }\n",
       "\n",
       "                .geemap-colab {\n",
       "                    background-color: var(--colab-primary-surface-color, white);\n",
       "                }\n",
       "\n",
       "                .geemap-colab .jupyter-button {\n",
       "                    --jp-layout-color3: var(--colab-primary-surface-color, white);\n",
       "                }\n",
       "            </style>\n",
       "            "
      ],
      "text/plain": [
       "<IPython.core.display.HTML object>"
      ]
     },
     "metadata": {},
     "output_type": "display_data"
    }
   ],
   "source": [
    "# getting the min and max value\n",
    "max_min_et=min_max_values(et0_ut)\n",
    "\n",
    "# setting the colorbar from Colorbrewer\n",
    "color_range = ['#ffffd9','#edf8b1','#c7e9b4','#7fcdbb','#41b6c4','#1d91c0','#225ea8','#253494','#081d58']\n",
    "\n",
    "# setting up the value and color range \n",
    "singleBandVis = {\n",
    "    \"min\": max_min_et[1],\n",
    "    \"max\": max_min_et[0],\n",
    "    \"palette\": color_range\n",
    "}\n",
    "\n",
    "# adding a colorbar in the map\n",
    "palette = singleBandVis[\"palette\"]\n",
    "vmin = singleBandVis[\"min\"]\n",
    "vmax = singleBandVis[\"max\"]\n",
    "\n",
    "Map1.addLayer(et0_ut, singleBandVis, 'UT evapotranspiration (kg/m^2)')\n",
    "Map1.add_colorbar_branca(colors=palette, vmin=vmin, vmax=vmax, layer_name=\"UT evapotranspiration (kg/m^2)\")"
   ]
  },
  {
   "cell_type": "code",
   "execution_count": null,
   "id": "ea187b08-94cd-41cb-b56e-804fff620be4",
   "metadata": {},
   "outputs": [],
   "source": []
  }
 ],
 "metadata": {
  "kernelspec": {
   "display_name": "Python 3 (ipykernel)",
   "language": "python",
   "name": "python3"
  },
  "language_info": {
   "codemirror_mode": {
    "name": "ipython",
    "version": 3
   },
   "file_extension": ".py",
   "mimetype": "text/x-python",
   "name": "python",
   "nbconvert_exporter": "python",
   "pygments_lexer": "ipython3",
   "version": "3.11.9"
  }
 },
 "nbformat": 4,
 "nbformat_minor": 5
}
