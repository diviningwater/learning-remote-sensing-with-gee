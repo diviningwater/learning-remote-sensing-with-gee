{
 "cells": [
  {
   "cell_type": "markdown",
   "id": "a705500d-420d-4c6f-ac89-8f8bc1690fea",
   "metadata": {
    "slideshow": {
     "slide_type": ""
    },
    "tags": []
   },
   "source": [
    "# GEEMAP ONLINE AND OFFLINE DATA ACCESS \n",
    "## (PART 1 - SINGLE BAND SPATIAL DATA)\n",
    "\n",
    "Course: CEE5003 Remote Sensing of Land Surfaces  \n",
    "\n",
    "Created by: Alfonso Torres  \n",
    "\n",
    "Date: May 2024\n",
    "\n",
    "***"
   ]
  },
  {
   "cell_type": "markdown",
   "id": "7e5f1d36",
   "metadata": {},
   "source": [
    "### Goal \n",
    "\n",
    "Demonstrate data access and retrieval when using Google Earth Engine \n",
    "***"
   ]
  },
  {
   "cell_type": "markdown",
   "id": "110ca77c",
   "metadata": {},
   "source": [
    "### Data Sources\n",
    "\n",
    "* Cloud:  \n",
    " a. GEE [NLDAS-2: North American Land Data Assimilation System Forcing Fields](https://developers.google.com/earth-engine/datasets/catalog/NASA_NLDAS_FORA0125_H002#description)    \n",
    "\n",
    "   Products of interest\n",
    "\n",
    "   precipitation \"total_precipitation\"\t  \n",
    "   air temperature at 2 meters \"temperature\"  \n",
    "   evapotranspiration \"potential_evaporation\"\n",
    "\n",
    " b. GEE [TIGER: US Census States 2018](https://developers.google.com/earth-engine/datasets/catalog/TIGER_2018_States)  \n",
    "\n",
    "\n",
    "\n",
    "\n",
    "* Local:\n",
    "    None  \n",
    "\n",
    "***"
   ]
  },
  {
   "cell_type": "markdown",
   "id": "03d981c9-18c3-44b9-b5bf-29c2fdca9f73",
   "metadata": {},
   "source": [
    "### Implementation"
   ]
  },
  {
   "cell_type": "markdown",
   "id": "135a0b7a",
   "metadata": {},
   "source": [
    "1. Importing modules"
   ]
  },
  {
   "cell_type": "code",
   "execution_count": 113,
   "id": "06b2df0c-5cd7-40ed-9c53-5d5b086f75be",
   "metadata": {},
   "outputs": [
    {
     "data": {
      "text/html": [
       "\n",
       "            <style>\n",
       "                .geemap-dark {\n",
       "                    --jp-widgets-color: white;\n",
       "                    --jp-widgets-label-color: white;\n",
       "                    --jp-ui-font-color1: white;\n",
       "                    --jp-layout-color2: #454545;\n",
       "                    background-color: #383838;\n",
       "                }\n",
       "\n",
       "                .geemap-dark .jupyter-button {\n",
       "                    --jp-layout-color3: #383838;\n",
       "                }\n",
       "\n",
       "                .geemap-colab {\n",
       "                    background-color: var(--colab-primary-surface-color, white);\n",
       "                }\n",
       "\n",
       "                .geemap-colab .jupyter-button {\n",
       "                    --jp-layout-color3: var(--colab-primary-surface-color, white);\n",
       "                }\n",
       "            </style>\n",
       "            "
      ],
      "text/plain": [
       "<IPython.core.display.HTML object>"
      ]
     },
     "metadata": {},
     "output_type": "display_data"
    },
    {
     "ename": "ImportError",
     "evalue": "DLL load failed while importing _imaging: The specified module could not be found.",
     "output_type": "error",
     "traceback": [
      "\u001b[1;31m---------------------------------------------------------------------------\u001b[0m",
      "\u001b[1;31mImportError\u001b[0m                               Traceback (most recent call last)",
      "Cell \u001b[1;32mIn[113], line 1\u001b[0m\n\u001b[1;32m----> 1\u001b[0m get_ipython()\u001b[38;5;241m.\u001b[39mrun_line_magic(\u001b[38;5;124m'\u001b[39m\u001b[38;5;124mmatplotlib\u001b[39m\u001b[38;5;124m'\u001b[39m, \u001b[38;5;124m'\u001b[39m\u001b[38;5;124minline\u001b[39m\u001b[38;5;124m'\u001b[39m)\n\u001b[0;32m      3\u001b[0m \u001b[38;5;28;01mimport\u001b[39;00m \u001b[38;5;21;01mee\u001b[39;00m\n\u001b[0;32m      4\u001b[0m \u001b[38;5;28;01mimport\u001b[39;00m \u001b[38;5;21;01mgeemap\u001b[39;00m\n",
      "File \u001b[1;32mC:\\ProgramData\\anaconda3\\envs\\geemap\\Lib\\site-packages\\IPython\\core\\interactiveshell.py:2456\u001b[0m, in \u001b[0;36mInteractiveShell.run_line_magic\u001b[1;34m(self, magic_name, line, _stack_depth)\u001b[0m\n\u001b[0;32m   2454\u001b[0m     kwargs[\u001b[38;5;124m'\u001b[39m\u001b[38;5;124mlocal_ns\u001b[39m\u001b[38;5;124m'\u001b[39m] \u001b[38;5;241m=\u001b[39m \u001b[38;5;28mself\u001b[39m\u001b[38;5;241m.\u001b[39mget_local_scope(stack_depth)\n\u001b[0;32m   2455\u001b[0m \u001b[38;5;28;01mwith\u001b[39;00m \u001b[38;5;28mself\u001b[39m\u001b[38;5;241m.\u001b[39mbuiltin_trap:\n\u001b[1;32m-> 2456\u001b[0m     result \u001b[38;5;241m=\u001b[39m fn(\u001b[38;5;241m*\u001b[39margs, \u001b[38;5;241m*\u001b[39m\u001b[38;5;241m*\u001b[39mkwargs)\n\u001b[0;32m   2458\u001b[0m \u001b[38;5;66;03m# The code below prevents the output from being displayed\u001b[39;00m\n\u001b[0;32m   2459\u001b[0m \u001b[38;5;66;03m# when using magics with decorator @output_can_be_silenced\u001b[39;00m\n\u001b[0;32m   2460\u001b[0m \u001b[38;5;66;03m# when the last Python token in the expression is a ';'.\u001b[39;00m\n\u001b[0;32m   2461\u001b[0m \u001b[38;5;28;01mif\u001b[39;00m \u001b[38;5;28mgetattr\u001b[39m(fn, magic\u001b[38;5;241m.\u001b[39mMAGIC_OUTPUT_CAN_BE_SILENCED, \u001b[38;5;28;01mFalse\u001b[39;00m):\n",
      "File \u001b[1;32mC:\\ProgramData\\anaconda3\\envs\\geemap\\Lib\\site-packages\\IPython\\core\\magics\\pylab.py:99\u001b[0m, in \u001b[0;36mPylabMagics.matplotlib\u001b[1;34m(self, line)\u001b[0m\n\u001b[0;32m     97\u001b[0m     \u001b[38;5;28mprint\u001b[39m(\u001b[38;5;124m\"\u001b[39m\u001b[38;5;124mAvailable matplotlib backends: \u001b[39m\u001b[38;5;132;01m%s\u001b[39;00m\u001b[38;5;124m\"\u001b[39m \u001b[38;5;241m%\u001b[39m backends_list)\n\u001b[0;32m     98\u001b[0m \u001b[38;5;28;01melse\u001b[39;00m:\n\u001b[1;32m---> 99\u001b[0m     gui, backend \u001b[38;5;241m=\u001b[39m \u001b[38;5;28mself\u001b[39m\u001b[38;5;241m.\u001b[39mshell\u001b[38;5;241m.\u001b[39menable_matplotlib(args\u001b[38;5;241m.\u001b[39mgui\u001b[38;5;241m.\u001b[39mlower() \u001b[38;5;28;01mif\u001b[39;00m \u001b[38;5;28misinstance\u001b[39m(args\u001b[38;5;241m.\u001b[39mgui, \u001b[38;5;28mstr\u001b[39m) \u001b[38;5;28;01melse\u001b[39;00m args\u001b[38;5;241m.\u001b[39mgui)\n\u001b[0;32m    100\u001b[0m     \u001b[38;5;28mself\u001b[39m\u001b[38;5;241m.\u001b[39m_show_matplotlib_backend(args\u001b[38;5;241m.\u001b[39mgui, backend)\n",
      "File \u001b[1;32mC:\\ProgramData\\anaconda3\\envs\\geemap\\Lib\\site-packages\\IPython\\core\\interactiveshell.py:3633\u001b[0m, in \u001b[0;36mInteractiveShell.enable_matplotlib\u001b[1;34m(self, gui)\u001b[0m\n\u001b[0;32m   3612\u001b[0m \u001b[38;5;28;01mdef\u001b[39;00m \u001b[38;5;21menable_matplotlib\u001b[39m(\u001b[38;5;28mself\u001b[39m, gui\u001b[38;5;241m=\u001b[39m\u001b[38;5;28;01mNone\u001b[39;00m):\n\u001b[0;32m   3613\u001b[0m \u001b[38;5;250m    \u001b[39m\u001b[38;5;124;03m\"\"\"Enable interactive matplotlib and inline figure support.\u001b[39;00m\n\u001b[0;32m   3614\u001b[0m \n\u001b[0;32m   3615\u001b[0m \u001b[38;5;124;03m    This takes the following steps:\u001b[39;00m\n\u001b[1;32m   (...)\u001b[0m\n\u001b[0;32m   3631\u001b[0m \u001b[38;5;124;03m        display figures inline.\u001b[39;00m\n\u001b[0;32m   3632\u001b[0m \u001b[38;5;124;03m    \"\"\"\u001b[39;00m\n\u001b[1;32m-> 3633\u001b[0m     \u001b[38;5;28;01mfrom\u001b[39;00m \u001b[38;5;21;01mmatplotlib_inline\u001b[39;00m\u001b[38;5;21;01m.\u001b[39;00m\u001b[38;5;21;01mbackend_inline\u001b[39;00m \u001b[38;5;28;01mimport\u001b[39;00m configure_inline_support\n\u001b[0;32m   3635\u001b[0m     \u001b[38;5;28;01mfrom\u001b[39;00m \u001b[38;5;21;01mIPython\u001b[39;00m\u001b[38;5;21;01m.\u001b[39;00m\u001b[38;5;21;01mcore\u001b[39;00m \u001b[38;5;28;01mimport\u001b[39;00m pylabtools \u001b[38;5;28;01mas\u001b[39;00m pt\n\u001b[0;32m   3636\u001b[0m     gui, backend \u001b[38;5;241m=\u001b[39m pt\u001b[38;5;241m.\u001b[39mfind_gui_and_backend(gui, \u001b[38;5;28mself\u001b[39m\u001b[38;5;241m.\u001b[39mpylab_gui_select)\n",
      "File \u001b[1;32mC:\\ProgramData\\anaconda3\\envs\\geemap\\Lib\\site-packages\\matplotlib_inline\\__init__.py:1\u001b[0m\n\u001b[1;32m----> 1\u001b[0m \u001b[38;5;28;01mfrom\u001b[39;00m \u001b[38;5;21;01m.\u001b[39;00m \u001b[38;5;28;01mimport\u001b[39;00m backend_inline, config  \u001b[38;5;66;03m# noqa\u001b[39;00m\n\u001b[0;32m      2\u001b[0m __version__ \u001b[38;5;241m=\u001b[39m \u001b[38;5;124m\"\u001b[39m\u001b[38;5;124m0.1.6\u001b[39m\u001b[38;5;124m\"\u001b[39m\n",
      "File \u001b[1;32mC:\\ProgramData\\anaconda3\\envs\\geemap\\Lib\\site-packages\\matplotlib_inline\\backend_inline.py:6\u001b[0m\n\u001b[0;32m      1\u001b[0m \u001b[38;5;124;03m\"\"\"A matplotlib backend for publishing figures via display_data\"\"\"\u001b[39;00m\n\u001b[0;32m      3\u001b[0m \u001b[38;5;66;03m# Copyright (c) IPython Development Team.\u001b[39;00m\n\u001b[0;32m      4\u001b[0m \u001b[38;5;66;03m# Distributed under the terms of the BSD 3-Clause License.\u001b[39;00m\n\u001b[1;32m----> 6\u001b[0m \u001b[38;5;28;01mimport\u001b[39;00m \u001b[38;5;21;01mmatplotlib\u001b[39;00m\n\u001b[0;32m      7\u001b[0m \u001b[38;5;28;01mfrom\u001b[39;00m \u001b[38;5;21;01mmatplotlib\u001b[39;00m \u001b[38;5;28;01mimport\u001b[39;00m colors\n\u001b[0;32m      8\u001b[0m \u001b[38;5;28;01mfrom\u001b[39;00m \u001b[38;5;21;01mmatplotlib\u001b[39;00m\u001b[38;5;21;01m.\u001b[39;00m\u001b[38;5;21;01mbackends\u001b[39;00m \u001b[38;5;28;01mimport\u001b[39;00m backend_agg\n",
      "File \u001b[1;32mC:\\ProgramData\\anaconda3\\envs\\geemap\\Lib\\site-packages\\matplotlib\\__init__.py:161\u001b[0m\n\u001b[0;32m    157\u001b[0m \u001b[38;5;28;01mfrom\u001b[39;00m \u001b[38;5;21;01mpackaging\u001b[39;00m\u001b[38;5;21;01m.\u001b[39;00m\u001b[38;5;21;01mversion\u001b[39;00m \u001b[38;5;28;01mimport\u001b[39;00m parse \u001b[38;5;28;01mas\u001b[39;00m parse_version\n\u001b[0;32m    159\u001b[0m \u001b[38;5;66;03m# cbook must import matplotlib only within function\u001b[39;00m\n\u001b[0;32m    160\u001b[0m \u001b[38;5;66;03m# definitions, so it is safe to import from it here.\u001b[39;00m\n\u001b[1;32m--> 161\u001b[0m \u001b[38;5;28;01mfrom\u001b[39;00m \u001b[38;5;21;01m.\u001b[39;00m \u001b[38;5;28;01mimport\u001b[39;00m _api, _version, cbook, _docstring, rcsetup\n\u001b[0;32m    162\u001b[0m \u001b[38;5;28;01mfrom\u001b[39;00m \u001b[38;5;21;01mmatplotlib\u001b[39;00m\u001b[38;5;21;01m.\u001b[39;00m\u001b[38;5;21;01mcbook\u001b[39;00m \u001b[38;5;28;01mimport\u001b[39;00m sanitize_sequence\n\u001b[0;32m    163\u001b[0m \u001b[38;5;28;01mfrom\u001b[39;00m \u001b[38;5;21;01mmatplotlib\u001b[39;00m\u001b[38;5;21;01m.\u001b[39;00m\u001b[38;5;21;01m_api\u001b[39;00m \u001b[38;5;28;01mimport\u001b[39;00m MatplotlibDeprecationWarning\n",
      "File \u001b[1;32mC:\\ProgramData\\anaconda3\\envs\\geemap\\Lib\\site-packages\\matplotlib\\rcsetup.py:27\u001b[0m\n\u001b[0;32m     25\u001b[0m \u001b[38;5;28;01mfrom\u001b[39;00m \u001b[38;5;21;01mmatplotlib\u001b[39;00m \u001b[38;5;28;01mimport\u001b[39;00m _api, cbook\n\u001b[0;32m     26\u001b[0m \u001b[38;5;28;01mfrom\u001b[39;00m \u001b[38;5;21;01mmatplotlib\u001b[39;00m\u001b[38;5;21;01m.\u001b[39;00m\u001b[38;5;21;01mcbook\u001b[39;00m \u001b[38;5;28;01mimport\u001b[39;00m ls_mapper\n\u001b[1;32m---> 27\u001b[0m \u001b[38;5;28;01mfrom\u001b[39;00m \u001b[38;5;21;01mmatplotlib\u001b[39;00m\u001b[38;5;21;01m.\u001b[39;00m\u001b[38;5;21;01mcolors\u001b[39;00m \u001b[38;5;28;01mimport\u001b[39;00m Colormap, is_color_like\n\u001b[0;32m     28\u001b[0m \u001b[38;5;28;01mfrom\u001b[39;00m \u001b[38;5;21;01mmatplotlib\u001b[39;00m\u001b[38;5;21;01m.\u001b[39;00m\u001b[38;5;21;01m_fontconfig_pattern\u001b[39;00m \u001b[38;5;28;01mimport\u001b[39;00m parse_fontconfig_pattern\n\u001b[0;32m     29\u001b[0m \u001b[38;5;28;01mfrom\u001b[39;00m \u001b[38;5;21;01mmatplotlib\u001b[39;00m\u001b[38;5;21;01m.\u001b[39;00m\u001b[38;5;21;01m_enums\u001b[39;00m \u001b[38;5;28;01mimport\u001b[39;00m JoinStyle, CapStyle\n",
      "File \u001b[1;32mC:\\ProgramData\\anaconda3\\envs\\geemap\\Lib\\site-packages\\matplotlib\\colors.py:52\u001b[0m\n\u001b[0;32m     49\u001b[0m \u001b[38;5;28;01mfrom\u001b[39;00m \u001b[38;5;21;01mnumbers\u001b[39;00m \u001b[38;5;28;01mimport\u001b[39;00m Real\n\u001b[0;32m     50\u001b[0m \u001b[38;5;28;01mimport\u001b[39;00m \u001b[38;5;21;01mre\u001b[39;00m\n\u001b[1;32m---> 52\u001b[0m \u001b[38;5;28;01mfrom\u001b[39;00m \u001b[38;5;21;01mPIL\u001b[39;00m \u001b[38;5;28;01mimport\u001b[39;00m Image\n\u001b[0;32m     53\u001b[0m \u001b[38;5;28;01mfrom\u001b[39;00m \u001b[38;5;21;01mPIL\u001b[39;00m\u001b[38;5;21;01m.\u001b[39;00m\u001b[38;5;21;01mPngImagePlugin\u001b[39;00m \u001b[38;5;28;01mimport\u001b[39;00m PngInfo\n\u001b[0;32m     55\u001b[0m \u001b[38;5;28;01mimport\u001b[39;00m \u001b[38;5;21;01mmatplotlib\u001b[39;00m \u001b[38;5;28;01mas\u001b[39;00m \u001b[38;5;21;01mmpl\u001b[39;00m\n",
      "File \u001b[1;32mC:\\ProgramData\\anaconda3\\envs\\geemap\\Lib\\site-packages\\PIL\\Image.py:88\u001b[0m\n\u001b[0;32m     79\u001b[0m MAX_IMAGE_PIXELS: \u001b[38;5;28mint\u001b[39m \u001b[38;5;241m|\u001b[39m \u001b[38;5;28;01mNone\u001b[39;00m \u001b[38;5;241m=\u001b[39m \u001b[38;5;28mint\u001b[39m(\u001b[38;5;241m1024\u001b[39m \u001b[38;5;241m*\u001b[39m \u001b[38;5;241m1024\u001b[39m \u001b[38;5;241m*\u001b[39m \u001b[38;5;241m1024\u001b[39m \u001b[38;5;241m/\u001b[39m\u001b[38;5;241m/\u001b[39m \u001b[38;5;241m4\u001b[39m \u001b[38;5;241m/\u001b[39m\u001b[38;5;241m/\u001b[39m \u001b[38;5;241m3\u001b[39m)\n\u001b[0;32m     82\u001b[0m \u001b[38;5;28;01mtry\u001b[39;00m:\n\u001b[0;32m     83\u001b[0m     \u001b[38;5;66;03m# If the _imaging C module is not present, Pillow will not load.\u001b[39;00m\n\u001b[0;32m     84\u001b[0m     \u001b[38;5;66;03m# Note that other modules should not refer to _imaging directly;\u001b[39;00m\n\u001b[0;32m     85\u001b[0m     \u001b[38;5;66;03m# import Image and use the Image.core variable instead.\u001b[39;00m\n\u001b[0;32m     86\u001b[0m     \u001b[38;5;66;03m# Also note that Image.core is not a publicly documented interface,\u001b[39;00m\n\u001b[0;32m     87\u001b[0m     \u001b[38;5;66;03m# and should be considered private and subject to change.\u001b[39;00m\n\u001b[1;32m---> 88\u001b[0m     \u001b[38;5;28;01mfrom\u001b[39;00m \u001b[38;5;21;01m.\u001b[39;00m \u001b[38;5;28;01mimport\u001b[39;00m _imaging \u001b[38;5;28;01mas\u001b[39;00m core\n\u001b[0;32m     90\u001b[0m     \u001b[38;5;28;01mif\u001b[39;00m __version__ \u001b[38;5;241m!=\u001b[39m \u001b[38;5;28mgetattr\u001b[39m(core, \u001b[38;5;124m\"\u001b[39m\u001b[38;5;124mPILLOW_VERSION\u001b[39m\u001b[38;5;124m\"\u001b[39m, \u001b[38;5;28;01mNone\u001b[39;00m):\n\u001b[0;32m     91\u001b[0m         msg \u001b[38;5;241m=\u001b[39m (\n\u001b[0;32m     92\u001b[0m             \u001b[38;5;124m\"\u001b[39m\u001b[38;5;124mThe _imaging extension was built for another version of Pillow or PIL:\u001b[39m\u001b[38;5;130;01m\\n\u001b[39;00m\u001b[38;5;124m\"\u001b[39m\n\u001b[0;32m     93\u001b[0m             \u001b[38;5;124mf\u001b[39m\u001b[38;5;124m\"\u001b[39m\u001b[38;5;124mCore version: \u001b[39m\u001b[38;5;132;01m{\u001b[39;00m\u001b[38;5;28mgetattr\u001b[39m(core,\u001b[38;5;250m \u001b[39m\u001b[38;5;124m'\u001b[39m\u001b[38;5;124mPILLOW_VERSION\u001b[39m\u001b[38;5;124m'\u001b[39m,\u001b[38;5;250m \u001b[39m\u001b[38;5;28;01mNone\u001b[39;00m)\u001b[38;5;132;01m}\u001b[39;00m\u001b[38;5;130;01m\\n\u001b[39;00m\u001b[38;5;124m\"\u001b[39m\n\u001b[0;32m     94\u001b[0m             \u001b[38;5;124mf\u001b[39m\u001b[38;5;124m\"\u001b[39m\u001b[38;5;124mPillow version: \u001b[39m\u001b[38;5;132;01m{\u001b[39;00m__version__\u001b[38;5;132;01m}\u001b[39;00m\u001b[38;5;124m\"\u001b[39m\n\u001b[0;32m     95\u001b[0m         )\n",
      "\u001b[1;31mImportError\u001b[0m: DLL load failed while importing _imaging: The specified module could not be found."
     ]
    }
   ],
   "source": [
    "%matplotlib inline\n",
    "\n",
    "import ee\n",
    "import geemap\n",
    "import eemont\n",
    "import pprint"
   ]
  },
  {
   "cell_type": "code",
   "execution_count": null,
   "id": "c6aa1e75-5074-4fd0-9e35-7d9f1479514c",
   "metadata": {},
   "outputs": [],
   "source": [
    "##### uncomment this cell and run it if the cell below fails\n",
    "# import geemap\n",
    "# m = geemap.Map()\n",
    "# m"
   ]
  },
  {
   "cell_type": "markdown",
   "id": "281f6e35",
   "metadata": {},
   "source": [
    "2. Initialize Earth Engine"
   ]
  },
  {
   "cell_type": "code",
   "execution_count": null,
   "id": "0563d5c0",
   "metadata": {},
   "outputs": [],
   "source": [
    "ee.Initialize()"
   ]
  },
  {
   "cell_type": "markdown",
   "id": "02178b3a-98c8-4085-90ed-2e9e37bb99f6",
   "metadata": {},
   "source": [
    "### Accessing Different Raster Products"
   ]
  },
  {
   "cell_type": "markdown",
   "id": "2ed5df6e-ea2c-4971-ae7f-3968bc1d0320",
   "metadata": {},
   "source": [
    "#### Climate and Weather"
   ]
  },
  {
   "cell_type": "markdown",
   "id": "aff3209f",
   "metadata": {},
   "source": [
    "3. Load Utah Boundary"
   ]
  },
  {
   "cell_type": "code",
   "execution_count": null,
   "id": "85648188-7aa0-4bd0-a384-8f37b739d86d",
   "metadata": {},
   "outputs": [],
   "source": [
    "boundary_ut =ee.FeatureCollection(\"TIGER/2018/States\").filter(ee.Filter.eq('NAME', 'Utah')).first()"
   ]
  },
  {
   "cell_type": "code",
   "execution_count": null,
   "id": "dd3c9c76-1ebb-4176-aaca-a3783e8b2636",
   "metadata": {},
   "outputs": [],
   "source": [
    "#boundary_ut"
   ]
  },
  {
   "cell_type": "markdown",
   "id": "dc54d817",
   "metadata": {},
   "source": [
    "4. Import NLDAS Data "
   ]
  },
  {
   "cell_type": "code",
   "execution_count": null,
   "id": "351b1973-e1a8-496f-9403-30adf1ecec16",
   "metadata": {},
   "outputs": [],
   "source": [
    "NLDAS_daily = ee.ImageCollection(\"NASA/NLDAS/FORA0125_H002\")"
   ]
  },
  {
   "cell_type": "markdown",
   "id": "4c83d464-e689-4d8a-a14f-01fb7c66bb49",
   "metadata": {},
   "source": [
    "5. Clip ERAS5 products of interest for the most recent April 1st"
   ]
  },
  {
   "cell_type": "code",
   "execution_count": null,
   "id": "c5f54cf3-7615-45a7-85b4-82959287400b",
   "metadata": {},
   "outputs": [],
   "source": [
    "#filtering by date: April 1st.\n",
    "date = '2024-05-15'"
   ]
  },
  {
   "cell_type": "code",
   "execution_count": null,
   "id": "02b757fc-4df8-4e29-a79f-4d70368e4379",
   "metadata": {},
   "outputs": [],
   "source": [
    "pp_ut = NLDAS_daily.closest(date).select('total_precipitation') .first()\n",
    "\n",
    "pp_ut = pp_ut.clip(boundary_ut)"
   ]
  },
  {
   "cell_type": "code",
   "execution_count": null,
   "id": "37afe278-2c67-4560-a585-da7e44786933",
   "metadata": {},
   "outputs": [],
   "source": [
    "temp_ut = NLDAS_daily.closest(date).select('temperature') .first()\n",
    "\n",
    "temp_ut = temp_ut.clip(boundary_ut)"
   ]
  },
  {
   "cell_type": "code",
   "execution_count": null,
   "id": "05edc536-e7c8-4e05-abb2-cf1d5408c82b",
   "metadata": {},
   "outputs": [],
   "source": [
    "et0_ut = NLDAS_daily.closest(date).select('potential_evaporation') .first()\n",
    "\n",
    "et0_ut = et0_ut.clip(boundary_ut)"
   ]
  },
  {
   "cell_type": "markdown",
   "id": "72ceffee",
   "metadata": {},
   "source": [
    "6. To plot single rasters, we need their min and max values. Creating a function to do that."
   ]
  },
  {
   "cell_type": "code",
   "execution_count": null,
   "id": "59edcc88-46df-4aa1-bfad-5b57ea77357a",
   "metadata": {},
   "outputs": [],
   "source": [
    "# creating a function to estimate mins and maxs of an image\n",
    "\n",
    "def min_max_values(single_band_image):\n",
    "# getting the min and max value of a single band image\n",
    "    meanDictionary = single_band_image.reduceRegion(**{\n",
    "    'reducer': ee.Reducer.minMax(), #there are multiple reducers, this extract the min and max of an image\n",
    "    'geometry': single_band_image.geometry(),\n",
    "    'bestEffort':True\n",
    "    })\n",
    "# reduced values from an image area are reported in a python dictionary\n",
    "    max_min_values = meanDictionary.getInfo()\n",
    "    keys_list = list(max_min_values.keys())\n",
    "#extracting the keys names by index order from dictionary\n",
    "    max_key = keys_list[0]\n",
    "    min_key = keys_list[1]\n",
    "# extracting values by key names    \n",
    "    maxValue = meanDictionary.get(max_key).getInfo()\n",
    "    minValue = meanDictionary.get(min_key).getInfo()\n",
    "\n",
    "    #rounding the numbers\n",
    "    maxValue = round(maxValue)\n",
    "    minValue = round(minValue)\n",
    "\n",
    "    return (maxValue, minValue)"
   ]
  },
  {
   "cell_type": "markdown",
   "id": "244e1a3f",
   "metadata": {},
   "source": [
    "7. Creating a Map"
   ]
  },
  {
   "cell_type": "code",
   "execution_count": null,
   "id": "8b0cd229-2aeb-49c0-9741-84974c0a5d4e",
   "metadata": {},
   "outputs": [],
   "source": [
    "Map1 = geemap.Map()\n",
    "\n",
    "Map1.centerObject(boundary_ut, 6)\t\n"
   ]
  },
  {
   "cell_type": "markdown",
   "id": "d39c35bb",
   "metadata": {},
   "source": [
    "8. Preparing and displaying ERAS5 precipitation"
   ]
  },
  {
   "cell_type": "code",
   "execution_count": null,
   "id": "7c3fea0d-5b34-412b-9e39-eccd5297205b",
   "metadata": {},
   "outputs": [],
   "source": [
    "# getting the min and max value\n",
    "max_min_pp=min_max_values(pp_ut)\n",
    "\n",
    "# setting the colorbar from Colorbrewer\n",
    "color_range = ['#f7fbff','#deebf7','#c6dbef','#9ecae1','#6baed6','#4292c6','#2171b5','#08519c','#08306b']\n",
    "\n",
    "# setting up the value and color range \n",
    "singleBandVis = {\n",
    "    \"min\": max_min_swe[1],\n",
    "    \"max\": max_min_swe[0],\n",
    "    \"palette\": color_range\n",
    "}\n",
    "\n",
    "# adding a colorbar in the map\n",
    "palette = singleBandVis[\"palette\"]\n",
    "vmin = singleBandVis[\"min\"]\n",
    "vmax = singleBandVis[\"max\"]\n",
    "\n",
    "Map1.addLayer(pp_ut, singleBandVis, 'UT precipitation (kg/m^2)')\n",
    "Map1.add_colorbar_branca(colors=palette, vmin=vmin, vmax=vmax, layer_name=\"UT precipitation (kg/m^2)\")"
   ]
  },
  {
   "cell_type": "code",
   "execution_count": null,
   "id": "d1ba4cc3-3614-46e0-ad80-2743d638bc8f",
   "metadata": {},
   "outputs": [],
   "source": [
    "\n",
    "Map1"
   ]
  },
  {
   "cell_type": "markdown",
   "id": "fbd55bbf",
   "metadata": {},
   "source": [
    "9. Prepapring and displaying NLDAS air temperature"
   ]
  },
  {
   "cell_type": "code",
   "execution_count": null,
   "id": "1fb0bd69",
   "metadata": {},
   "outputs": [],
   "source": [
    "# getting the min and max value\n",
    "max_min_temp=min_max_values(temp_ut)\n",
    "\n",
    "# setting the colorbar from Colorbrewer\n",
    "color_range = ['#ffffcc','#ffeda0','#fed976','#feb24c','#fd8d3c','#fc4e2a','#e31a1c','#bd0026','#800026']\n",
    "\n",
    "# setting up the value and color range \n",
    "singleBandVis = {\n",
    "    \"min\": max_min_temp[1],\n",
    "    \"max\": max_min_temp[0],\n",
    "    \"palette\": color_range\n",
    "}\n",
    "\n",
    "# adding a colorbar in the map\n",
    "palette = singleBandVis[\"palette\"]\n",
    "vmin = singleBandVis[\"min\"]\n",
    "vmax = singleBandVis[\"max\"]\n",
    "\n",
    "Map1.addLayer(temp_ut, singleBandVis, 'UT air temp at 2m (°C)')\n",
    "Map1.add_colorbar_branca(colors=palette, vmin=vmin, vmax=vmax, layer_name=\"UT air temp at 2m (°C)\")"
   ]
  },
  {
   "cell_type": "markdown",
   "id": "5104811c",
   "metadata": {},
   "source": [
    "10. Preparing and dispaying NLDAS potential evapotranspiration"
   ]
  },
  {
   "cell_type": "code",
   "execution_count": null,
   "id": "fb026b67-956c-4dd9-bf85-6675b7dc54a0",
   "metadata": {},
   "outputs": [],
   "source": [
    "# getting the min and max value\n",
    "max_min_et=min_max_values(et0_ut)\n",
    "\n",
    "# setting the colorbar from Colorbrewer\n",
    "color_range = ['#ffffd9','#edf8b1','#c7e9b4','#7fcdbb','#41b6c4','#1d91c0','#225ea8','#253494','#081d58']\n",
    "\n",
    "# setting up the value and color range \n",
    "singleBandVis = {\n",
    "    \"min\": max_min_et[1],\n",
    "    \"max\": max_min_et[0],\n",
    "    \"palette\": color_range\n",
    "}\n",
    "\n",
    "# adding a colorbar in the map\n",
    "palette = singleBandVis[\"palette\"]\n",
    "vmin = singleBandVis[\"min\"]\n",
    "vmax = singleBandVis[\"max\"]\n",
    "\n",
    "Map1.addLayer(et0_ut, singleBandVis, 'UT evapotranspiration (kg/m^2)')\n",
    "Map1.add_colorbar_branca(colors=palette, vmin=vmin, vmax=vmax, layer_name=\"UT evapotranspiration (kg/m^2)\")"
   ]
  },
  {
   "cell_type": "code",
   "execution_count": null,
   "id": "ea187b08-94cd-41cb-b56e-804fff620be4",
   "metadata": {},
   "outputs": [],
   "source": []
  }
 ],
 "metadata": {
  "kernelspec": {
   "display_name": "Python 3 (ipykernel)",
   "language": "python",
   "name": "python3"
  },
  "language_info": {
   "codemirror_mode": {
    "name": "ipython",
    "version": 3
   },
   "file_extension": ".py",
   "mimetype": "text/x-python",
   "name": "python",
   "nbconvert_exporter": "python",
   "pygments_lexer": "ipython3",
   "version": "3.11.9"
  }
 },
 "nbformat": 4,
 "nbformat_minor": 5
}
